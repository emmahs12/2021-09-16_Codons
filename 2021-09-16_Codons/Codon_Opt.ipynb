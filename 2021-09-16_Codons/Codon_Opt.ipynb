{
 "cells": [
  {
   "cell_type": "markdown",
   "metadata": {},
   "source": [
    "### Background\n",
    "\n",
    "My intitial goal in this code was to write code which would identify the rare codons in the originating organisms code (human) and then maintain the rare codons but convert them to the target organism's rare codons. My intitial goal is. to visually be able to look for patterns when comparing rare codon distributions (ie does the originating organism's code have more of S. cerevisiae's rare codons even without optimizing, etc) and then move into writing my own codon optimization code which would maintain rare codon frequency. \n",
    "\n",
    "This became a question in our group when we expressed two human GPCRs in S. cerevisiae– one codon optimized with EMBOSS and the other, not codon optimized. When assayed in S. cerevisiae, the non-codon optimized receptor functioned while the S. cerevisiae codon optimized receptor did not. \n",
    "\n",
    "Rare codons have been recently reviwed as potentially important part of successful protein expression. Previously, the prevailing idea behind codon optimizing was to get rid of the rare codons in favor of the frequent codons for the host organism. However, when looking across eukaryotic and prokaryotic species, some rare codon clusters are conserved and these clusters tend to be located in conserved protein domains (Chaney et al. 2017, Liu 2020). \n",
    "\n",
    "Ultimately, I want to use this code in my own work to determime whether maintaining rare codon frequency or 'codon harmonization' is a valuable tool in improving and enabling GPCR expression in yeast. \n",
    "\n",
    "\n",
    "#### References\n",
    "\n",
    "Chaney, Julie L., Aaron Steele, Rory Carmichael, Anabel Rodriguez, Alicia T. Specht, Kim Ngo, Jun Li, Scott Emrich, and Patricia L. Clark. 2017. “Widespread Position-Specific Conservation of Synonymous Rare Codons within Coding Sequences.” PLoS Computational Biology 13 (5): e1005531.\n",
    "\n",
    "Liu, Yi. 2020. “A Code within the Genetic Code: Codon Usage Regulates Co-Translational Protein Folding.” Cell Communication and Signaling: CCS 18 (1): 145.\n"
   ]
  },
  {
   "cell_type": "markdown",
   "metadata": {},
   "source": [
    "(Unfortunately, this isn't quite at the stage I wanted it to be at this point. I am finishing this since I will be ordering genes to test this with as part of my GPCR project, more than happy to resubmit if this is not sufficient!)"
   ]
  },
  {
   "cell_type": "code",
   "execution_count": 2,
   "metadata": {},
   "outputs": [],
   "source": [
    "import pandas as pd\n",
    "import numpy as py"
   ]
  },
  {
   "cell_type": "markdown",
   "metadata": {},
   "source": [
    "Import Codon Bias Table of Target Organism (S. cerv)"
   ]
  },
  {
   "cell_type": "code",
   "execution_count": 3,
   "metadata": {},
   "outputs": [
    {
     "name": "stdout",
     "output_type": "stream",
     "text": [
      "   AmAcid Codon  per_thou\n",
      "0     Gly   GGG      6.02\n",
      "1     Gly   GGA     10.90\n",
      "2     Gly   GGT     23.89\n",
      "3     Gly   GGC      9.78\n",
      "4     Glu   GAG     19.24\n",
      "5     Glu   GAA     45.60\n",
      "6     Asp   GAT     37.59\n",
      "7     Asp   GAC     20.21\n",
      "8     Val   GTG     10.76\n",
      "9     Val   GTA     11.77\n",
      "10    Val   GTT     22.07\n",
      "11    Val   GTC     11.78\n",
      "12    Ala   GCG      6.18\n",
      "13    Ala   GCA     16.21\n",
      "14    Ala   GCT     21.17\n",
      "15    Ala   GCC     21.60\n",
      "16    Arg   AGG      9.23\n",
      "17    Arg   AGA     21.28\n",
      "18    Ser   AGT     14.15\n",
      "19    Ser   AGC      9.75\n",
      "20    Lys   AAG     30.82\n",
      "21    Lys   AAA     41.87\n",
      "22    Asn   AAT     35.68\n",
      "23    Asn   AAC     24.82\n",
      "24    Met   ATG     20.94\n",
      "25    Ile   ATA     17.79\n",
      "26    Ile   ATT     30.13\n",
      "27    Ile   ATC     17.17\n",
      "28    Thr   ACG      7.96\n",
      "29    Thr   ACA     17.76\n",
      "30    Thr   ACT     20.28\n",
      "31    Thr   ACC     12.73\n",
      "32    Trp   TGG     10.37\n",
      "33    End   TGA      0.68\n",
      "34    Cys   TGT      8.10\n",
      "35    Cys   TGC      4.76\n",
      "36    End   TAG      0.51\n",
      "37    End   TAA      1.06\n",
      "38    Tyr   TAT     18.78\n",
      "39    Tyr   TAC     14.78\n",
      "40    Leu   TTG     27.17\n",
      "41    Leu   TTA     26.15\n",
      "42    Phe   TTT     26.12\n",
      "43    Phe   TTC     18.44\n",
      "44    Ser   TCG      8.56\n",
      "45    Ser   TCA     18.67\n",
      "46    Ser   TCT     23.50\n",
      "47    Ser   TCC     14.22\n",
      "48    Arg   CGG      1.74\n",
      "49    Arg   CGA      2.99\n",
      "50    Arg   CGT      6.40\n",
      "51    Arg   CGC      2.60\n",
      "52    Gln   CAG     12.11\n",
      "53    Gln   CAA     27.28\n",
      "54    His   CAT     13.62\n",
      "55    His   CAC      7.77\n",
      "56    Leu   CTG     10.48\n",
      "57    Leu   CTA     13.41\n",
      "58    Leu   CTT     12.25\n",
      "59    Leu   CTC      5.44\n",
      "60    Pro   CCG      5.29\n",
      "61    Pro   CCA     18.31\n",
      "62    Pro   CCT     13.51\n",
      "63    Pro   CCC      6.78\n"
     ]
    }
   ],
   "source": [
    "pd.set_option(\"display.max_rows\", None, \"display.max_columns\", None)\n",
    "codon_table_target= pd.read_csv('Codon_OPT_sacc.csv')\n",
    "print(codon_table_target)"
   ]
  },
  {
   "cell_type": "markdown",
   "metadata": {},
   "source": [
    "Import Codon Bias Table of Originating Organism (Human)"
   ]
  },
  {
   "cell_type": "code",
   "execution_count": 4,
   "metadata": {},
   "outputs": [],
   "source": [
    "pd.set_option(\"display.max_rows\", None, \"display.max_columns\", None)\n",
    "codon_table_orig= pd.read_csv('Codon_OPT_human.csv')"
   ]
  },
  {
   "cell_type": "markdown",
   "metadata": {},
   "source": [
    "Input Originating Organism coding DNA of gene (needs to start with ATG) and identify codons"
   ]
  },
  {
   "cell_type": "code",
   "execution_count": 5,
   "metadata": {},
   "outputs": [],
   "source": [
    "original_dna= '5HT4b Human'\n",
    "dna= \"ATGGACAAACTTGATGCTAATGTGAGTTCTGAGGAGGGTTTCGGGTCAGTGGAGAAGGTGGTGCTGCTCACGTTTCTCTCGACGGTTATCCTGATGGCCATCTTGGGGAACCTGCTGGTGATGGTGGCTGTGTGCTGGGACAGGCAGCTCAGGAAAATAAAAACAAATTATTTCATTGTATCTCTTGCTTTTGCGGATCTGCTGGTTTCGGTGCTGGTGATGCCCTTTGGTGCCATTGAGCTGGTTCAAGACATCTGGATTTATGGGGAGGTGTTTTGTCTTGTTCGGACATCTCTGGACGTCCTGCTCACAACGGCATCGATTTTTCACCTGTGCTGCATTTCTCTGGATAGGTATTACGCCATCTGCTGCCAGCCTTTGGTCTATAGGAACAAGATGACCCCTCTGCGCATCGCATTAATGCTGGGAGGCTGCTGGGTCATCCCCACGTTTATTTCTTTTCTCCCTATAATGCAAGGCTGGAATAACATTGGCATAATTGATTTGATAGAAAAGAGGAAGTTCAACCAGAACTCTAACTCTACGTACTGTGTCTTCATGGTCAACAAGCCCTACGCCATCACCTGCTCTGTGGTGGCCTTCTACATCCCATTTCTCCTCATGGTGCTGGCCTATTACCGCATCTATGTCACAGCTAAGGAGCATGCCCATCAGATCCAGATGTTACAACGGGCAGGAGCCTCCTCCGAGAGCAGGCCTCAGTCGGCAGACCAGCATAGCACTCATCGCATGAGGACAGAGACCAAAGCAGCCAAGACCCTGTGCATCATCATGGGTTGCTTCTGCCTCTGCTGGGCACCATTCTTTGTCACCAATATTGTGGATCCTTTCATAGACTACACTGTCCCTGGGCAGGTGTGGACTGCTTTCCTCTGGCTCGGCTATATCAATTCCGGGTTGAACCCTTTTCTCTACGCCTTCTTGAATAAGTCTTTTAGACGTGCCTTCCTCATCATCCTCTGCTGTGATGATGAGCGCTACCGAAGACCTTCCATTCTGGGCCAGACTGTCCCTTGTTCAACCACAACCATTAATGGATCCACACATGTACTAAGGGATGCAGTGGAGTGTGGTGGCCAGTGGGAGAGTCAGTGTCACCCGCCAGCAACTTCTCCTTTGGTGGCTGCTCAGCCCAGTGACACTTAG\""
   ]
  },
  {
   "cell_type": "code",
   "execution_count": 6,
   "metadata": {},
   "outputs": [],
   "source": [
    "dna=dna.replace(\" \", \"\")"
   ]
  },
  {
   "cell_type": "code",
   "execution_count": 7,
   "metadata": {},
   "outputs": [],
   "source": [
    "def codons(seq):\n",
    "    n = len(seq)\n",
    "    for i in range(0,n,3):\n",
    "        yield seq[i:i+3]"
   ]
  },
  {
   "cell_type": "code",
   "execution_count": 8,
   "metadata": {},
   "outputs": [],
   "source": [
    "codons_list=list(codons(dna))"
   ]
  },
  {
   "cell_type": "code",
   "execution_count": 9,
   "metadata": {},
   "outputs": [
    {
     "name": "stdout",
     "output_type": "stream",
     "text": [
      "['ATG', 'GAC', 'AAA', 'CTT', 'GAT', 'GCT', 'AAT', 'GTG', 'AGT', 'TCT', 'GAG', 'GAG', 'GGT', 'TTC', 'GGG', 'TCA', 'GTG', 'GAG', 'AAG', 'GTG', 'GTG', 'CTG', 'CTC', 'ACG', 'TTT', 'CTC', 'TCG', 'ACG', 'GTT', 'ATC', 'CTG', 'ATG', 'GCC', 'ATC', 'TTG', 'GGG', 'AAC', 'CTG', 'CTG', 'GTG', 'ATG', 'GTG', 'GCT', 'GTG', 'TGC', 'TGG', 'GAC', 'AGG', 'CAG', 'CTC', 'AGG', 'AAA', 'ATA', 'AAA', 'ACA', 'AAT', 'TAT', 'TTC', 'ATT', 'GTA', 'TCT', 'CTT', 'GCT', 'TTT', 'GCG', 'GAT', 'CTG', 'CTG', 'GTT', 'TCG', 'GTG', 'CTG', 'GTG', 'ATG', 'CCC', 'TTT', 'GGT', 'GCC', 'ATT', 'GAG', 'CTG', 'GTT', 'CAA', 'GAC', 'ATC', 'TGG', 'ATT', 'TAT', 'GGG', 'GAG', 'GTG', 'TTT', 'TGT', 'CTT', 'GTT', 'CGG', 'ACA', 'TCT', 'CTG', 'GAC', 'GTC', 'CTG', 'CTC', 'ACA', 'ACG', 'GCA', 'TCG', 'ATT', 'TTT', 'CAC', 'CTG', 'TGC', 'TGC', 'ATT', 'TCT', 'CTG', 'GAT', 'AGG', 'TAT', 'TAC', 'GCC', 'ATC', 'TGC', 'TGC', 'CAG', 'CCT', 'TTG', 'GTC', 'TAT', 'AGG', 'AAC', 'AAG', 'ATG', 'ACC', 'CCT', 'CTG', 'CGC', 'ATC', 'GCA', 'TTA', 'ATG', 'CTG', 'GGA', 'GGC', 'TGC', 'TGG', 'GTC', 'ATC', 'CCC', 'ACG', 'TTT', 'ATT', 'TCT', 'TTT', 'CTC', 'CCT', 'ATA', 'ATG', 'CAA', 'GGC', 'TGG', 'AAT', 'AAC', 'ATT', 'GGC', 'ATA', 'ATT', 'GAT', 'TTG', 'ATA', 'GAA', 'AAG', 'AGG', 'AAG', 'TTC', 'AAC', 'CAG', 'AAC', 'TCT', 'AAC', 'TCT', 'ACG', 'TAC', 'TGT', 'GTC', 'TTC', 'ATG', 'GTC', 'AAC', 'AAG', 'CCC', 'TAC', 'GCC', 'ATC', 'ACC', 'TGC', 'TCT', 'GTG', 'GTG', 'GCC', 'TTC', 'TAC', 'ATC', 'CCA', 'TTT', 'CTC', 'CTC', 'ATG', 'GTG', 'CTG', 'GCC', 'TAT', 'TAC', 'CGC', 'ATC', 'TAT', 'GTC', 'ACA', 'GCT', 'AAG', 'GAG', 'CAT', 'GCC', 'CAT', 'CAG', 'ATC', 'CAG', 'ATG', 'TTA', 'CAA', 'CGG', 'GCA', 'GGA', 'GCC', 'TCC', 'TCC', 'GAG', 'AGC', 'AGG', 'CCT', 'CAG', 'TCG', 'GCA', 'GAC', 'CAG', 'CAT', 'AGC', 'ACT', 'CAT', 'CGC', 'ATG', 'AGG', 'ACA', 'GAG', 'ACC', 'AAA', 'GCA', 'GCC', 'AAG', 'ACC', 'CTG', 'TGC', 'ATC', 'ATC', 'ATG', 'GGT', 'TGC', 'TTC', 'TGC', 'CTC', 'TGC', 'TGG', 'GCA', 'CCA', 'TTC', 'TTT', 'GTC', 'ACC', 'AAT', 'ATT', 'GTG', 'GAT', 'CCT', 'TTC', 'ATA', 'GAC', 'TAC', 'ACT', 'GTC', 'CCT', 'GGG', 'CAG', 'GTG', 'TGG', 'ACT', 'GCT', 'TTC', 'CTC', 'TGG', 'CTC', 'GGC', 'TAT', 'ATC', 'AAT', 'TCC', 'GGG', 'TTG', 'AAC', 'CCT', 'TTT', 'CTC', 'TAC', 'GCC', 'TTC', 'TTG', 'AAT', 'AAG', 'TCT', 'TTT', 'AGA', 'CGT', 'GCC', 'TTC', 'CTC', 'ATC', 'ATC', 'CTC', 'TGC', 'TGT', 'GAT', 'GAT', 'GAG', 'CGC', 'TAC', 'CGA', 'AGA', 'CCT', 'TCC', 'ATT', 'CTG', 'GGC', 'CAG', 'ACT', 'GTC', 'CCT', 'TGT', 'TCA', 'ACC', 'ACA', 'ACC', 'ATT', 'AAT', 'GGA', 'TCC', 'ACA', 'CAT', 'GTA', 'CTA', 'AGG', 'GAT', 'GCA', 'GTG', 'GAG', 'TGT', 'GGT', 'GGC', 'CAG', 'TGG', 'GAG', 'AGT', 'CAG', 'TGT', 'CAC', 'CCG', 'CCA', 'GCA', 'ACT', 'TCT', 'CCT', 'TTG', 'GTG', 'GCT', 'GCT', 'CAG', 'CCC', 'AGT', 'GAC', 'ACT', 'TAG']\n"
     ]
    }
   ],
   "source": [
    "print(codons_list)"
   ]
  },
  {
   "cell_type": "markdown",
   "metadata": {},
   "source": [
    "Identify most frequency (max) and the rarest (min) codon for each amino acid of Originating Organism based on codon bias table\n"
   ]
  },
  {
   "cell_type": "code",
   "execution_count": 10,
   "metadata": {},
   "outputs": [],
   "source": [
    "minz_orig=codon_table_orig.groupby(['AmAcid'])['per_thou'].min()\n",
    "minz_orig= minz_orig.to_frame().reset_index()\n",
    "\n",
    "maxx_orig=codon_table_orig.groupby(['AmAcid'])['per_thou'].max()\n",
    "maxx_orig= maxx_orig.to_frame().reset_index()\n"
   ]
  },
  {
   "cell_type": "markdown",
   "metadata": {},
   "source": [
    "Identify most frequency (max) and the rarest (min) codon for each amino acid of Target Organism \n"
   ]
  },
  {
   "cell_type": "code",
   "execution_count": 11,
   "metadata": {},
   "outputs": [
    {
     "name": "stdout",
     "output_type": "stream",
     "text": [
      "   AmAcid  per_thou\n",
      "0     Ala     21.60\n",
      "1     Arg     21.28\n",
      "2     Asn     35.68\n",
      "3     Asp     37.59\n",
      "4     Cys      8.10\n",
      "5     End      1.06\n",
      "6     Gln     27.28\n",
      "7     Glu     45.60\n",
      "8     Gly     23.89\n",
      "9     His     13.62\n",
      "10    Ile     30.13\n",
      "11    Leu     27.17\n",
      "12    Lys     41.87\n",
      "13    Met     20.94\n",
      "14    Phe     26.12\n",
      "15    Pro     18.31\n",
      "16    Ser     23.50\n",
      "17    Thr     20.28\n",
      "18    Trp     10.37\n",
      "19    Tyr     18.78\n",
      "20    Val     22.07\n"
     ]
    }
   ],
   "source": [
    "minz_target=codon_table_target.groupby(['AmAcid'])['per_thou'].min()\n",
    "minz_target = minz_target.to_frame().reset_index()\n",
    "\n",
    "maxx_target=codon_table_target.groupby(['AmAcid'])['per_thou'].max()\n",
    "maxx_target= maxx_target.to_frame().reset_index()\n",
    "print(maxx_target)\n"
   ]
  },
  {
   "cell_type": "markdown",
   "metadata": {},
   "source": [
    "Add color to make it easy to see patterns "
   ]
  },
  {
   "cell_type": "code",
   "execution_count": 12,
   "metadata": {},
   "outputs": [],
   "source": [
    "#function to color text \n",
    "def color_it(r, g, b, text):\n",
    "    return \"\\033[38;2;{};{};{}m{} \\033[38;2;255;255;255m\".format(r, g, b, text)\n"
   ]
  },
  {
   "cell_type": "markdown",
   "metadata": {},
   "source": [
    "Code for coloring the DNA sequence based on human codon frequency chart"
   ]
  },
  {
   "cell_type": "code",
   "execution_count": 21,
   "metadata": {},
   "outputs": [],
   "source": [
    "orig_map=\"\"\n",
    "for item in codons_list:\n",
    "    aa_local_orig=codon_table_orig.loc[codon_table_orig[codon_table_orig['Codon'] == item].index[0], 'AmAcid']\n",
    "    aa_min_value_orig= minz_orig.loc[minz_orig[minz_orig['AmAcid'] == aa_local_orig].index[0], 'per_thou']\n",
    "    aa_max_value_orig= maxx_orig.loc[maxx_orig[maxx_orig['AmAcid'] == aa_local_orig].index[0], 'per_thou']\n",
    "\n",
    "\n",
    "#if the minimum and the maximum are the same--maybe there is only one codon for the amino acid-- make it blue to show\n",
    "    if aa_max_value_orig==aa_min_value_orig :\n",
    "        text= item\n",
    "        color_text_orig = color_it(0, 0, 255, text)\n",
    "        orig_map=orig_map + color_text_orig    \n",
    "#if the present codon is the rare one, make it red\n",
    "    elif aa_min_value_orig == codon_table_orig.loc[codon_table_orig[codon_table_orig['AmAcid'] == aa_local_orig].index[0], 'per_thou']:\n",
    "        text= item\n",
    "        color_text_orig = color_it(255, 0, 0, text)\n",
    "        orig_map=orig_map + color_text_orig  \n",
    " #if the present codon is the common one, make it green\n",
    "    elif aa_max_value_orig == codon_table_orig.loc[codon_table_orig[codon_table_orig['AmAcid'] == aa_local_orig].index[0], 'per_thou']:\n",
    "        text= item\n",
    "        color_text_orig = color_it(0, 255, 0, text)\n",
    "        orig_map=orig_map + color_text_orig \n",
    "#if it's neither, make it black\n",
    "    else: \n",
    "        text= item\n",
    "        color_text_orig = color_it(0, 0, 0, text)\n",
    "        orig_map= orig_map+color_text_orig"
   ]
  },
  {
   "cell_type": "markdown",
   "metadata": {},
   "source": [
    "Code for coloring the DNA sequence based on S.cerv codon frequency chart"
   ]
  },
  {
   "cell_type": "code",
   "execution_count": 17,
   "metadata": {},
   "outputs": [],
   "source": [
    "#There is a bug in this part of the code where the colors are not changing when they should be. I'm still trying to figure out where this bug is!\n",
    "target_map=\"\"\n",
    "for item in codons_list:\n",
    "    aa_local_target=codon_table_target.loc[codon_table_target[codon_table_target['Codon'] == item].index[0], 'AmAcid']\n",
    "    aa_min_value_target= minz_target.loc[minz_target[minz_target['AmAcid'] == aa_local_target].index[0], 'per_thou']\n",
    "    aa_max_value_target= maxx_target.loc[maxx_target[maxx_target['AmAcid'] == aa_local_target].index[0], 'per_thou']\n",
    "    \n",
    "#if the minimum and the maximum are the same--maybe there is only one codon for the amino acid-- make it blue to show\n",
    "    if aa_max_value_target==aa_min_value_target :\n",
    "        text= item\n",
    "        color_text_target = color_it(0, 0, 255, text)\n",
    "        target_map=target_map + color_text_target \n",
    "        \n",
    "#if the present codon is the rare one, make it red\n",
    "    elif aa_min_value_target == codon_table_target.loc[codon_table_target[codon_table_target['AmAcid'] == aa_local_target].index[0], 'per_thou']:\n",
    "        text= item\n",
    "        color_text_target = color_it(255, 0, 0, text)\n",
    "        target_map=target_map + color_text_target  \n",
    "        \n",
    " #if the present codon is the common one, make it green\n",
    "    elif aa_max_value_target == codon_table_target.loc[codon_table_target[codon_table_target['AmAcid'] == aa_local_target].index[0], 'per_thou']:\n",
    "        text= item\n",
    "        color_text_target = color_it(0, 255, 0, text)\n",
    "        target_map=target_map + color_text_target \n",
    "#if it's neither, make it black                                                                                              \n",
    "    else: \n",
    "        text= item\n",
    "        color_text_target = color_it(0, 0, 0, text)\n",
    "        target_map= target_map+color_text_target"
   ]
  },
  {
   "cell_type": "markdown",
   "metadata": {},
   "source": [
    "Test for checking an EMBOSS codon optimized sequence to see codon rarity distribution after optimization "
   ]
  },
  {
   "cell_type": "code",
   "execution_count": 19,
   "metadata": {},
   "outputs": [],
   "source": [
    "#insert EMBOSS optimized sequence\n",
    "opt_test=\"ATGGATAAATTGGATGCTAATGTTTCTTCTGAAGAAGGTTTTGGTTCTGTTGAAAAAGTTGTTTTGTTGACTTTTTTGTCTACTGTTATTTTGATGGCTATTTTGGGTAATTTGTTGGTTATGGTTGCTGTTTGTTGGGATAGACAATTGAGAAAAATTAAAACTAATTATTTTATTGTTTCTTTGGCTTTTGCTGATTTGTTGGTTTCTGTTTTGGTTATGCCATTTGGTGCTATTGAATTGGTTCAAGATATTTGGATTTATGGTGAAGTTTTTTGTTTGGTTAGAACTTCTTTGGATGTTTTGTTGACTACTGCTTCTATTTTTCATTTGTGTTGTATTTCTTTGGATAGATATTATGCTATTTGTTGTCAACCATTGGTTTATAGAAATAAAATGACTCCATTGAGAATTGCTTTGATGTTGGGTGGTTGTTGGGTTATTCCAACTTTTATTTCTTTTTTGCCAATTATGCAAGGTTGGAATAATATTGGTATTATTGATTTGATTGAAAAAAGAAAATTTAATCAAAATTCTAATTCTACTTATTGTGTTTTTATGGTTAATAAACCATATGCTATTACTTGTTCTGTTGTTGCTTTTTATATTCCATTTTTGTTGATGGTTTTGGCTTATTATAGAATTTATGTTACTGCTAAAGAACATGCTCATCAAATTCAAATGTTGCAAAGAGCTGGTGCTTCTTCTGAATCTAGACCACAATCTGCTGATCAACATTCTACTCATAGAATGAGAACTGAAACTAAAGCTGCTAAAACTTTGTGTATTATTATGGGTTGTTTTTGTTTGTGTTGGGCTCCATTTTTTGTTACTAATATTGTTGATCCATTTATTGATTATACTGTTCCAGGTCAAGTTTGGACTGCTTTTTTGTGGTTGGGTTATATTAATTCTGGTTTGAATCCATTTTTGTATGCTTTTTTGAATAAATCTTTTAGAAGAGCTTTTTTGATTATTTTGTGTTGTGATGATGAAAGATATAGAAGACCATCTATTTTGGGTCAAACTGTTCCATGTTCTACTACTACTATTAATGGTTCTACTCATGTTTTGAGAGATGCTGTTGAATGTGGTGGTCAATGGGAATCTCAATGTCATCCACCAGCTACTTCTCCATTGGTTGCTGCTCAACCATCTGATACTTGA\"\n",
    "opt_codons=list(codons(opt_test))\n",
    "\n",
    "\n",
    "opt_map=\"\"\n",
    "for item in opt_codons:\n",
    "    aa_local_opt=codon_table_target.loc[codon_table_target[codon_table_target['Codon'] == item].index[0], 'AmAcid']\n",
    "    aa_min_value_opt= minz_target.loc[minz_target[minz_target['AmAcid'] == aa_local_opt].index[0], 'per_thou']\n",
    "    aa_max_value_opt= maxx_target.loc[maxx_target[maxx_target['AmAcid'] == aa_local_opt].index[0], 'per_thou']\n",
    "\n",
    "#if the minimum and the maximum are the same--maybe there is only one codon for the amino acid-- make it blue to show\n",
    "    if aa_max_value_opt==aa_min_value_opt :\n",
    "        text= item\n",
    "        color_text_opt = color_it(0, 0, 255, text)\n",
    "        opt_map=opt_map + color_text_opt\n",
    "\n",
    "#if the present codon is the rare one, make it red\n",
    "    elif aa_min_value_opt == codon_table_target.loc[codon_table_target[codon_table_target['AmAcid'] == aa_local_opt].index[0], 'per_thou']:\n",
    "        text= item\n",
    "        color_text_opt = color_it(255, 0, 0, text)\n",
    "        #opt_map=opt_map + color_text_opt  \n",
    "        opt_map=opt_map + color_text_opt\n",
    "\n",
    " #if the present codon is the common one, make it green\n",
    "    elif aa_max_value_opt == codon_table_target.loc[codon_table_target[codon_table_target['AmAcid'] == aa_local_opt].index[0], 'per_thou']:\n",
    "        text= item\n",
    "        color_text_opt = color_it(0, 255, 0, text)\n",
    "        opt_map=opt_map + color_text_opt\n",
    "\n",
    "#if it's neither, make it black\n",
    "    else: \n",
    "        text= item\n",
    "        color_text_opt = color_it(0, 0, 0, text)\n",
    "        opt_map= opt_map+color_text_opt"
   ]
  },
  {
   "cell_type": "code",
   "execution_count": null,
   "metadata": {},
   "outputs": [],
   "source": []
  },
  {
   "cell_type": "code",
   "execution_count": 22,
   "metadata": {},
   "outputs": [
    {
     "name": "stdout",
     "output_type": "stream",
     "text": [
      "\u001b[38;2;0;0;0mHuman Codon Biases for 5HT4b Human \u001b[38;2;255;255;255m\n",
      "\u001b[38;2;0;0;255mATG \u001b[38;2;255;255;255m\u001b[38;2;255;0;0mGAC \u001b[38;2;255;255;255m\u001b[38;2;0;255;0mAAA \u001b[38;2;255;255;255m\u001b[38;2;0;0;0mCTT \u001b[38;2;255;255;255m\u001b[38;2;255;0;0mGAT \u001b[38;2;255;255;255m\u001b[38;2;255;0;0mGCT \u001b[38;2;255;255;255m\u001b[38;2;255;0;0mAAT \u001b[38;2;255;255;255m\u001b[38;2;0;255;0mGTG \u001b[38;2;255;255;255m\u001b[38;2;0;0;0mAGT \u001b[38;2;255;255;255m\u001b[38;2;0;0;0mTCT \u001b[38;2;255;255;255m\u001b[38;2;0;255;0mGAG \u001b[38;2;255;255;255m\u001b[38;2;0;255;0mGAG \u001b[38;2;255;255;255m\u001b[38;2;0;0;0mGGT \u001b[38;2;255;255;255m\u001b[38;2;255;0;0mTTC \u001b[38;2;255;255;255m\u001b[38;2;0;0;0mGGG \u001b[38;2;255;255;255m\u001b[38;2;0;0;0mTCA \u001b[38;2;255;255;255m\u001b[38;2;0;255;0mGTG \u001b[38;2;255;255;255m\u001b[38;2;0;255;0mGAG \u001b[38;2;255;255;255m\u001b[38;2;0;255;0mAAG \u001b[38;2;255;255;255m\u001b[38;2;0;255;0mGTG \u001b[38;2;255;255;255m\u001b[38;2;0;255;0mGTG \u001b[38;2;255;255;255m\u001b[38;2;0;0;0mCTG \u001b[38;2;255;255;255m\u001b[38;2;0;0;0mCTC \u001b[38;2;255;255;255m\u001b[38;2;255;0;0mACG \u001b[38;2;255;255;255m\u001b[38;2;255;0;0mTTT \u001b[38;2;255;255;255m\u001b[38;2;0;0;0mCTC \u001b[38;2;255;255;255m\u001b[38;2;0;0;0mTCG \u001b[38;2;255;255;255m\u001b[38;2;255;0;0mACG \u001b[38;2;255;255;255m\u001b[38;2;0;255;0mGTT \u001b[38;2;255;255;255m\u001b[38;2;255;0;0mATC \u001b[38;2;255;255;255m\u001b[38;2;0;0;0mCTG \u001b[38;2;255;255;255m\u001b[38;2;0;0;255mATG \u001b[38;2;255;255;255m\u001b[38;2;255;0;0mGCC \u001b[38;2;255;255;255m\u001b[38;2;255;0;0mATC \u001b[38;2;255;255;255m\u001b[38;2;0;0;0mTTG \u001b[38;2;255;255;255m\u001b[38;2;0;0;0mGGG \u001b[38;2;255;255;255m\u001b[38;2;255;0;0mAAC \u001b[38;2;255;255;255m\u001b[38;2;0;0;0mCTG \u001b[38;2;255;255;255m\u001b[38;2;0;0;0mCTG \u001b[38;2;255;255;255m\u001b[38;2;0;255;0mGTG \u001b[38;2;255;255;255m\u001b[38;2;0;0;255mATG \u001b[38;2;255;255;255m\u001b[38;2;0;255;0mGTG \u001b[38;2;255;255;255m\u001b[38;2;255;0;0mGCT \u001b[38;2;255;255;255m\u001b[38;2;0;255;0mGTG \u001b[38;2;255;255;255m\u001b[38;2;255;0;0mTGC \u001b[38;2;255;255;255m\u001b[38;2;0;0;255mTGG \u001b[38;2;255;255;255m\u001b[38;2;255;0;0mGAC \u001b[38;2;255;255;255m\u001b[38;2;0;0;0mAGG \u001b[38;2;255;255;255m\u001b[38;2;0;255;0mCAG \u001b[38;2;255;255;255m\u001b[38;2;0;0;0mCTC \u001b[38;2;255;255;255m\u001b[38;2;0;0;0mAGG \u001b[38;2;255;255;255m\u001b[38;2;0;255;0mAAA \u001b[38;2;255;255;255m\u001b[38;2;255;0;0mATA \u001b[38;2;255;255;255m\u001b[38;2;0;255;0mAAA \u001b[38;2;255;255;255m\u001b[38;2;255;0;0mACA \u001b[38;2;255;255;255m\u001b[38;2;255;0;0mAAT \u001b[38;2;255;255;255m\u001b[38;2;255;0;0mTAT \u001b[38;2;255;255;255m\u001b[38;2;255;0;0mTTC \u001b[38;2;255;255;255m\u001b[38;2;255;0;0mATT \u001b[38;2;255;255;255m\u001b[38;2;0;255;0mGTA \u001b[38;2;255;255;255m\u001b[38;2;0;0;0mTCT \u001b[38;2;255;255;255m\u001b[38;2;0;0;0mCTT \u001b[38;2;255;255;255m\u001b[38;2;255;0;0mGCT \u001b[38;2;255;255;255m\u001b[38;2;255;0;0mTTT \u001b[38;2;255;255;255m\u001b[38;2;255;0;0mGCG \u001b[38;2;255;255;255m\u001b[38;2;255;0;0mGAT \u001b[38;2;255;255;255m\u001b[38;2;0;0;0mCTG \u001b[38;2;255;255;255m\u001b[38;2;0;0;0mCTG \u001b[38;2;255;255;255m\u001b[38;2;0;255;0mGTT \u001b[38;2;255;255;255m\u001b[38;2;0;0;0mTCG \u001b[38;2;255;255;255m\u001b[38;2;0;255;0mGTG \u001b[38;2;255;255;255m\u001b[38;2;0;0;0mCTG \u001b[38;2;255;255;255m\u001b[38;2;0;255;0mGTG \u001b[38;2;255;255;255m\u001b[38;2;0;0;255mATG \u001b[38;2;255;255;255m\u001b[38;2;255;0;0mCCC \u001b[38;2;255;255;255m\u001b[38;2;255;0;0mTTT \u001b[38;2;255;255;255m\u001b[38;2;0;0;0mGGT \u001b[38;2;255;255;255m\u001b[38;2;255;0;0mGCC \u001b[38;2;255;255;255m\u001b[38;2;255;0;0mATT \u001b[38;2;255;255;255m\u001b[38;2;0;255;0mGAG \u001b[38;2;255;255;255m\u001b[38;2;0;0;0mCTG \u001b[38;2;255;255;255m\u001b[38;2;0;255;0mGTT \u001b[38;2;255;255;255m\u001b[38;2;0;255;0mCAA \u001b[38;2;255;255;255m\u001b[38;2;255;0;0mGAC \u001b[38;2;255;255;255m\u001b[38;2;255;0;0mATC \u001b[38;2;255;255;255m\u001b[38;2;0;0;255mTGG \u001b[38;2;255;255;255m\u001b[38;2;255;0;0mATT \u001b[38;2;255;255;255m\u001b[38;2;255;0;0mTAT \u001b[38;2;255;255;255m\u001b[38;2;0;0;0mGGG \u001b[38;2;255;255;255m\u001b[38;2;0;255;0mGAG \u001b[38;2;255;255;255m\u001b[38;2;0;255;0mGTG \u001b[38;2;255;255;255m\u001b[38;2;255;0;0mTTT \u001b[38;2;255;255;255m\u001b[38;2;255;0;0mTGT \u001b[38;2;255;255;255m\u001b[38;2;0;0;0mCTT \u001b[38;2;255;255;255m\u001b[38;2;0;255;0mGTT \u001b[38;2;255;255;255m\u001b[38;2;0;0;0mCGG \u001b[38;2;255;255;255m\u001b[38;2;255;0;0mACA \u001b[38;2;255;255;255m\u001b[38;2;0;0;0mTCT \u001b[38;2;255;255;255m\u001b[38;2;0;0;0mCTG \u001b[38;2;255;255;255m\u001b[38;2;255;0;0mGAC \u001b[38;2;255;255;255m\u001b[38;2;0;255;0mGTC \u001b[38;2;255;255;255m\u001b[38;2;0;0;0mCTG \u001b[38;2;255;255;255m\u001b[38;2;0;0;0mCTC \u001b[38;2;255;255;255m\u001b[38;2;255;0;0mACA \u001b[38;2;255;255;255m\u001b[38;2;255;0;0mACG \u001b[38;2;255;255;255m\u001b[38;2;255;0;0mGCA \u001b[38;2;255;255;255m\u001b[38;2;0;0;0mTCG \u001b[38;2;255;255;255m\u001b[38;2;255;0;0mATT \u001b[38;2;255;255;255m\u001b[38;2;255;0;0mTTT \u001b[38;2;255;255;255m\u001b[38;2;255;0;0mCAC \u001b[38;2;255;255;255m\u001b[38;2;0;0;0mCTG \u001b[38;2;255;255;255m\u001b[38;2;255;0;0mTGC \u001b[38;2;255;255;255m\u001b[38;2;255;0;0mTGC \u001b[38;2;255;255;255m\u001b[38;2;255;0;0mATT \u001b[38;2;255;255;255m\u001b[38;2;0;0;0mTCT \u001b[38;2;255;255;255m\u001b[38;2;0;0;0mCTG \u001b[38;2;255;255;255m\u001b[38;2;255;0;0mGAT \u001b[38;2;255;255;255m\u001b[38;2;0;0;0mAGG \u001b[38;2;255;255;255m\u001b[38;2;255;0;0mTAT \u001b[38;2;255;255;255m\u001b[38;2;255;0;0mTAC \u001b[38;2;255;255;255m\u001b[38;2;255;0;0mGCC \u001b[38;2;255;255;255m\u001b[38;2;255;0;0mATC \u001b[38;2;255;255;255m\u001b[38;2;255;0;0mTGC \u001b[38;2;255;255;255m\u001b[38;2;255;0;0mTGC \u001b[38;2;255;255;255m\u001b[38;2;0;255;0mCAG \u001b[38;2;255;255;255m\u001b[38;2;255;0;0mCCT \u001b[38;2;255;255;255m\u001b[38;2;0;0;0mTTG \u001b[38;2;255;255;255m\u001b[38;2;0;255;0mGTC \u001b[38;2;255;255;255m\u001b[38;2;255;0;0mTAT \u001b[38;2;255;255;255m\u001b[38;2;0;0;0mAGG \u001b[38;2;255;255;255m\u001b[38;2;255;0;0mAAC \u001b[38;2;255;255;255m\u001b[38;2;0;255;0mAAG \u001b[38;2;255;255;255m\u001b[38;2;0;0;255mATG \u001b[38;2;255;255;255m\u001b[38;2;255;0;0mACC \u001b[38;2;255;255;255m\u001b[38;2;255;0;0mCCT \u001b[38;2;255;255;255m\u001b[38;2;0;0;0mCTG \u001b[38;2;255;255;255m\u001b[38;2;0;0;0mCGC \u001b[38;2;255;255;255m\u001b[38;2;255;0;0mATC \u001b[38;2;255;255;255m\u001b[38;2;255;0;0mGCA \u001b[38;2;255;255;255m\u001b[38;2;0;0;0mTTA \u001b[38;2;255;255;255m\u001b[38;2;0;0;255mATG \u001b[38;2;255;255;255m\u001b[38;2;0;0;0mCTG \u001b[38;2;255;255;255m\u001b[38;2;0;0;0mGGA \u001b[38;2;255;255;255m\u001b[38;2;0;0;0mGGC \u001b[38;2;255;255;255m\u001b[38;2;255;0;0mTGC \u001b[38;2;255;255;255m\u001b[38;2;0;0;255mTGG \u001b[38;2;255;255;255m\u001b[38;2;0;255;0mGTC \u001b[38;2;255;255;255m\u001b[38;2;255;0;0mATC \u001b[38;2;255;255;255m\u001b[38;2;255;0;0mCCC \u001b[38;2;255;255;255m\u001b[38;2;255;0;0mACG \u001b[38;2;255;255;255m\u001b[38;2;255;0;0mTTT \u001b[38;2;255;255;255m\u001b[38;2;255;0;0mATT \u001b[38;2;255;255;255m\u001b[38;2;0;0;0mTCT \u001b[38;2;255;255;255m\u001b[38;2;255;0;0mTTT \u001b[38;2;255;255;255m\u001b[38;2;0;0;0mCTC \u001b[38;2;255;255;255m\u001b[38;2;255;0;0mCCT \u001b[38;2;255;255;255m\u001b[38;2;255;0;0mATA \u001b[38;2;255;255;255m\u001b[38;2;0;0;255mATG \u001b[38;2;255;255;255m\u001b[38;2;0;255;0mCAA \u001b[38;2;255;255;255m\u001b[38;2;0;0;0mGGC \u001b[38;2;255;255;255m\u001b[38;2;0;0;255mTGG \u001b[38;2;255;255;255m\u001b[38;2;255;0;0mAAT \u001b[38;2;255;255;255m\u001b[38;2;255;0;0mAAC \u001b[38;2;255;255;255m\u001b[38;2;255;0;0mATT \u001b[38;2;255;255;255m\u001b[38;2;0;0;0mGGC \u001b[38;2;255;255;255m\u001b[38;2;255;0;0mATA \u001b[38;2;255;255;255m\u001b[38;2;255;0;0mATT \u001b[38;2;255;255;255m\u001b[38;2;255;0;0mGAT \u001b[38;2;255;255;255m\u001b[38;2;0;0;0mTTG \u001b[38;2;255;255;255m\u001b[38;2;255;0;0mATA \u001b[38;2;255;255;255m\u001b[38;2;0;255;0mGAA \u001b[38;2;255;255;255m\u001b[38;2;0;255;0mAAG \u001b[38;2;255;255;255m\u001b[38;2;0;0;0mAGG \u001b[38;2;255;255;255m\u001b[38;2;0;255;0mAAG \u001b[38;2;255;255;255m\u001b[38;2;255;0;0mTTC \u001b[38;2;255;255;255m\u001b[38;2;255;0;0mAAC \u001b[38;2;255;255;255m\u001b[38;2;0;255;0mCAG \u001b[38;2;255;255;255m\u001b[38;2;255;0;0mAAC \u001b[38;2;255;255;255m\u001b[38;2;0;0;0mTCT \u001b[38;2;255;255;255m\u001b[38;2;255;0;0mAAC \u001b[38;2;255;255;255m\u001b[38;2;0;0;0mTCT \u001b[38;2;255;255;255m\u001b[38;2;255;0;0mACG \u001b[38;2;255;255;255m\u001b[38;2;255;0;0mTAC \u001b[38;2;255;255;255m\u001b[38;2;255;0;0mTGT \u001b[38;2;255;255;255m\u001b[38;2;0;255;0mGTC \u001b[38;2;255;255;255m\u001b[38;2;255;0;0mTTC \u001b[38;2;255;255;255m\u001b[38;2;0;0;255mATG \u001b[38;2;255;255;255m\u001b[38;2;0;255;0mGTC \u001b[38;2;255;255;255m\u001b[38;2;255;0;0mAAC \u001b[38;2;255;255;255m\u001b[38;2;0;255;0mAAG \u001b[38;2;255;255;255m\u001b[38;2;255;0;0mCCC \u001b[38;2;255;255;255m\u001b[38;2;255;0;0mTAC \u001b[38;2;255;255;255m\u001b[38;2;255;0;0mGCC \u001b[38;2;255;255;255m\u001b[38;2;255;0;0mATC \u001b[38;2;255;255;255m\u001b[38;2;255;0;0mACC \u001b[38;2;255;255;255m\u001b[38;2;255;0;0mTGC \u001b[38;2;255;255;255m\u001b[38;2;0;0;0mTCT \u001b[38;2;255;255;255m\u001b[38;2;0;255;0mGTG \u001b[38;2;255;255;255m\u001b[38;2;0;255;0mGTG \u001b[38;2;255;255;255m\u001b[38;2;255;0;0mGCC \u001b[38;2;255;255;255m\u001b[38;2;255;0;0mTTC \u001b[38;2;255;255;255m\u001b[38;2;255;0;0mTAC \u001b[38;2;255;255;255m\u001b[38;2;255;0;0mATC \u001b[38;2;255;255;255m\u001b[38;2;255;0;0mCCA \u001b[38;2;255;255;255m\u001b[38;2;255;0;0mTTT \u001b[38;2;255;255;255m\u001b[38;2;0;0;0mCTC \u001b[38;2;255;255;255m\u001b[38;2;0;0;0mCTC \u001b[38;2;255;255;255m\u001b[38;2;0;0;255mATG \u001b[38;2;255;255;255m\u001b[38;2;0;255;0mGTG \u001b[38;2;255;255;255m\u001b[38;2;0;0;0mCTG \u001b[38;2;255;255;255m\u001b[38;2;255;0;0mGCC \u001b[38;2;255;255;255m\u001b[38;2;255;0;0mTAT \u001b[38;2;255;255;255m\u001b[38;2;255;0;0mTAC \u001b[38;2;255;255;255m\u001b[38;2;0;0;0mCGC \u001b[38;2;255;255;255m\u001b[38;2;255;0;0mATC \u001b[38;2;255;255;255m\u001b[38;2;255;0;0mTAT \u001b[38;2;255;255;255m\u001b[38;2;0;255;0mGTC \u001b[38;2;255;255;255m\u001b[38;2;255;0;0mACA \u001b[38;2;255;255;255m\u001b[38;2;255;0;0mGCT \u001b[38;2;255;255;255m\u001b[38;2;0;255;0mAAG \u001b[38;2;255;255;255m\u001b[38;2;0;255;0mGAG \u001b[38;2;255;255;255m\u001b[38;2;255;0;0mCAT \u001b[38;2;255;255;255m\u001b[38;2;255;0;0mGCC \u001b[38;2;255;255;255m\u001b[38;2;255;0;0mCAT \u001b[38;2;255;255;255m\u001b[38;2;0;255;0mCAG \u001b[38;2;255;255;255m\u001b[38;2;255;0;0mATC \u001b[38;2;255;255;255m\u001b[38;2;0;255;0mCAG \u001b[38;2;255;255;255m\u001b[38;2;0;0;255mATG \u001b[38;2;255;255;255m\u001b[38;2;0;0;0mTTA \u001b[38;2;255;255;255m\u001b[38;2;0;255;0mCAA \u001b[38;2;255;255;255m\u001b[38;2;0;0;0mCGG \u001b[38;2;255;255;255m\u001b[38;2;255;0;0mGCA \u001b[38;2;255;255;255m\u001b[38;2;0;0;0mGGA \u001b[38;2;255;255;255m\u001b[38;2;255;0;0mGCC \u001b[38;2;255;255;255m\u001b[38;2;0;0;0mTCC \u001b[38;2;255;255;255m\u001b[38;2;0;0;0mTCC \u001b[38;2;255;255;255m\u001b[38;2;0;255;0mGAG \u001b[38;2;255;255;255m\u001b[38;2;0;0;0mAGC \u001b[38;2;255;255;255m\u001b[38;2;0;0;0mAGG \u001b[38;2;255;255;255m\u001b[38;2;255;0;0mCCT \u001b[38;2;255;255;255m\u001b[38;2;0;255;0mCAG \u001b[38;2;255;255;255m\u001b[38;2;0;0;0mTCG \u001b[38;2;255;255;255m\u001b[38;2;255;0;0mGCA \u001b[38;2;255;255;255m\u001b[38;2;255;0;0mGAC \u001b[38;2;255;255;255m\u001b[38;2;0;255;0mCAG \u001b[38;2;255;255;255m\u001b[38;2;255;0;0mCAT \u001b[38;2;255;255;255m\u001b[38;2;0;0;0mAGC \u001b[38;2;255;255;255m\u001b[38;2;255;0;0mACT \u001b[38;2;255;255;255m\u001b[38;2;255;0;0mCAT \u001b[38;2;255;255;255m\u001b[38;2;0;0;0mCGC \u001b[38;2;255;255;255m\u001b[38;2;0;0;255mATG \u001b[38;2;255;255;255m\u001b[38;2;0;0;0mAGG \u001b[38;2;255;255;255m\u001b[38;2;255;0;0mACA \u001b[38;2;255;255;255m\u001b[38;2;0;255;0mGAG \u001b[38;2;255;255;255m\u001b[38;2;255;0;0mACC \u001b[38;2;255;255;255m\u001b[38;2;0;255;0mAAA \u001b[38;2;255;255;255m\u001b[38;2;255;0;0mGCA \u001b[38;2;255;255;255m\u001b[38;2;255;0;0mGCC \u001b[38;2;255;255;255m\u001b[38;2;0;255;0mAAG \u001b[38;2;255;255;255m\u001b[38;2;255;0;0mACC \u001b[38;2;255;255;255m\u001b[38;2;0;0;0mCTG \u001b[38;2;255;255;255m\u001b[38;2;255;0;0mTGC \u001b[38;2;255;255;255m\u001b[38;2;255;0;0mATC \u001b[38;2;255;255;255m\u001b[38;2;255;0;0mATC \u001b[38;2;255;255;255m\u001b[38;2;0;0;255mATG \u001b[38;2;255;255;255m\u001b[38;2;0;0;0mGGT \u001b[38;2;255;255;255m\u001b[38;2;255;0;0mTGC \u001b[38;2;255;255;255m\u001b[38;2;255;0;0mTTC \u001b[38;2;255;255;255m\u001b[38;2;255;0;0mTGC \u001b[38;2;255;255;255m\u001b[38;2;0;0;0mCTC \u001b[38;2;255;255;255m\u001b[38;2;255;0;0mTGC \u001b[38;2;255;255;255m\u001b[38;2;0;0;255mTGG \u001b[38;2;255;255;255m\u001b[38;2;255;0;0mGCA \u001b[38;2;255;255;255m\u001b[38;2;255;0;0mCCA \u001b[38;2;255;255;255m\u001b[38;2;255;0;0mTTC \u001b[38;2;255;255;255m\u001b[38;2;255;0;0mTTT \u001b[38;2;255;255;255m\u001b[38;2;0;255;0mGTC \u001b[38;2;255;255;255m\u001b[38;2;255;0;0mACC \u001b[38;2;255;255;255m\u001b[38;2;255;0;0mAAT \u001b[38;2;255;255;255m\u001b[38;2;255;0;0mATT \u001b[38;2;255;255;255m\u001b[38;2;0;255;0mGTG \u001b[38;2;255;255;255m\u001b[38;2;255;0;0mGAT \u001b[38;2;255;255;255m\u001b[38;2;255;0;0mCCT \u001b[38;2;255;255;255m\u001b[38;2;255;0;0mTTC \u001b[38;2;255;255;255m\u001b[38;2;255;0;0mATA \u001b[38;2;255;255;255m\u001b[38;2;255;0;0mGAC \u001b[38;2;255;255;255m\u001b[38;2;255;0;0mTAC \u001b[38;2;255;255;255m\u001b[38;2;255;0;0mACT \u001b[38;2;255;255;255m\u001b[38;2;0;255;0mGTC \u001b[38;2;255;255;255m\u001b[38;2;255;0;0mCCT \u001b[38;2;255;255;255m\u001b[38;2;0;0;0mGGG \u001b[38;2;255;255;255m\u001b[38;2;0;255;0mCAG \u001b[38;2;255;255;255m\u001b[38;2;0;255;0mGTG \u001b[38;2;255;255;255m\u001b[38;2;0;0;255mTGG \u001b[38;2;255;255;255m\u001b[38;2;255;0;0mACT \u001b[38;2;255;255;255m\u001b[38;2;255;0;0mGCT \u001b[38;2;255;255;255m\u001b[38;2;255;0;0mTTC \u001b[38;2;255;255;255m\u001b[38;2;0;0;0mCTC \u001b[38;2;255;255;255m\u001b[38;2;0;0;255mTGG \u001b[38;2;255;255;255m\u001b[38;2;0;0;0mCTC \u001b[38;2;255;255;255m\u001b[38;2;0;0;0mGGC \u001b[38;2;255;255;255m\u001b[38;2;255;0;0mTAT \u001b[38;2;255;255;255m\u001b[38;2;255;0;0mATC \u001b[38;2;255;255;255m\u001b[38;2;255;0;0mAAT \u001b[38;2;255;255;255m\u001b[38;2;0;0;0mTCC \u001b[38;2;255;255;255m\u001b[38;2;0;0;0mGGG \u001b[38;2;255;255;255m\u001b[38;2;0;0;0mTTG \u001b[38;2;255;255;255m\u001b[38;2;255;0;0mAAC \u001b[38;2;255;255;255m\u001b[38;2;255;0;0mCCT \u001b[38;2;255;255;255m\u001b[38;2;255;0;0mTTT \u001b[38;2;255;255;255m\u001b[38;2;0;0;0mCTC \u001b[38;2;255;255;255m\u001b[38;2;255;0;0mTAC \u001b[38;2;255;255;255m\u001b[38;2;255;0;0mGCC \u001b[38;2;255;255;255m\u001b[38;2;255;0;0mTTC \u001b[38;2;255;255;255m\u001b[38;2;0;0;0mTTG \u001b[38;2;255;255;255m\u001b[38;2;255;0;0mAAT \u001b[38;2;255;255;255m\u001b[38;2;0;255;0mAAG \u001b[38;2;255;255;255m\u001b[38;2;0;0;0mTCT \u001b[38;2;255;255;255m\u001b[38;2;255;0;0mTTT \u001b[38;2;255;255;255m\u001b[38;2;0;0;0mAGA \u001b[38;2;255;255;255m\u001b[38;2;0;0;0mCGT \u001b[38;2;255;255;255m\u001b[38;2;255;0;0mGCC \u001b[38;2;255;255;255m\u001b[38;2;255;0;0mTTC \u001b[38;2;255;255;255m\u001b[38;2;0;0;0mCTC \u001b[38;2;255;255;255m\u001b[38;2;255;0;0mATC \u001b[38;2;255;255;255m\u001b[38;2;255;0;0mATC \u001b[38;2;255;255;255m\u001b[38;2;0;0;0mCTC \u001b[38;2;255;255;255m\u001b[38;2;255;0;0mTGC \u001b[38;2;255;255;255m\u001b[38;2;255;0;0mTGT \u001b[38;2;255;255;255m\u001b[38;2;255;0;0mGAT \u001b[38;2;255;255;255m\u001b[38;2;255;0;0mGAT \u001b[38;2;255;255;255m\u001b[38;2;0;255;0mGAG \u001b[38;2;255;255;255m\u001b[38;2;0;0;0mCGC \u001b[38;2;255;255;255m\u001b[38;2;255;0;0mTAC \u001b[38;2;255;255;255m\u001b[38;2;0;0;0mCGA \u001b[38;2;255;255;255m\u001b[38;2;0;0;0mAGA \u001b[38;2;255;255;255m\u001b[38;2;255;0;0mCCT \u001b[38;2;255;255;255m\u001b[38;2;0;0;0mTCC \u001b[38;2;255;255;255m\u001b[38;2;255;0;0mATT \u001b[38;2;255;255;255m\u001b[38;2;0;0;0mCTG \u001b[38;2;255;255;255m\u001b[38;2;0;0;0mGGC \u001b[38;2;255;255;255m\u001b[38;2;0;255;0mCAG \u001b[38;2;255;255;255m\u001b[38;2;255;0;0mACT \u001b[38;2;255;255;255m\u001b[38;2;0;255;0mGTC \u001b[38;2;255;255;255m\u001b[38;2;255;0;0mCCT \u001b[38;2;255;255;255m\u001b[38;2;255;0;0mTGT \u001b[38;2;255;255;255m\u001b[38;2;0;0;0mTCA \u001b[38;2;255;255;255m\u001b[38;2;255;0;0mACC \u001b[38;2;255;255;255m\u001b[38;2;255;0;0mACA \u001b[38;2;255;255;255m\u001b[38;2;255;0;0mACC \u001b[38;2;255;255;255m\u001b[38;2;255;0;0mATT \u001b[38;2;255;255;255m\u001b[38;2;255;0;0mAAT \u001b[38;2;255;255;255m\u001b[38;2;0;0;0mGGA \u001b[38;2;255;255;255m\u001b[38;2;0;0;0mTCC \u001b[38;2;255;255;255m\u001b[38;2;255;0;0mACA \u001b[38;2;255;255;255m\u001b[38;2;255;0;0mCAT \u001b[38;2;255;255;255m\u001b[38;2;0;255;0mGTA \u001b[38;2;255;255;255m\u001b[38;2;0;0;0mCTA \u001b[38;2;255;255;255m\u001b[38;2;0;0;0mAGG \u001b[38;2;255;255;255m\u001b[38;2;255;0;0mGAT \u001b[38;2;255;255;255m\u001b[38;2;255;0;0mGCA \u001b[38;2;255;255;255m\u001b[38;2;0;255;0mGTG \u001b[38;2;255;255;255m\u001b[38;2;0;255;0mGAG \u001b[38;2;255;255;255m\u001b[38;2;255;0;0mTGT \u001b[38;2;255;255;255m\u001b[38;2;0;0;0mGGT \u001b[38;2;255;255;255m\u001b[38;2;0;0;0mGGC \u001b[38;2;255;255;255m\u001b[38;2;0;255;0mCAG \u001b[38;2;255;255;255m\u001b[38;2;0;0;255mTGG \u001b[38;2;255;255;255m\u001b[38;2;0;255;0mGAG \u001b[38;2;255;255;255m\u001b[38;2;0;0;0mAGT \u001b[38;2;255;255;255m\u001b[38;2;0;255;0mCAG \u001b[38;2;255;255;255m\u001b[38;2;255;0;0mTGT \u001b[38;2;255;255;255m\u001b[38;2;255;0;0mCAC \u001b[38;2;255;255;255m\u001b[38;2;255;0;0mCCG \u001b[38;2;255;255;255m\u001b[38;2;255;0;0mCCA \u001b[38;2;255;255;255m\u001b[38;2;255;0;0mGCA \u001b[38;2;255;255;255m\u001b[38;2;255;0;0mACT \u001b[38;2;255;255;255m\u001b[38;2;0;0;0mTCT \u001b[38;2;255;255;255m\u001b[38;2;255;0;0mCCT \u001b[38;2;255;255;255m\u001b[38;2;0;0;0mTTG \u001b[38;2;255;255;255m\u001b[38;2;0;255;0mGTG \u001b[38;2;255;255;255m\u001b[38;2;255;0;0mGCT \u001b[38;2;255;255;255m\u001b[38;2;255;0;0mGCT \u001b[38;2;255;255;255m\u001b[38;2;0;255;0mCAG \u001b[38;2;255;255;255m\u001b[38;2;255;0;0mCCC \u001b[38;2;255;255;255m\u001b[38;2;0;0;0mAGT \u001b[38;2;255;255;255m\u001b[38;2;255;0;0mGAC \u001b[38;2;255;255;255m\u001b[38;2;255;0;0mACT \u001b[38;2;255;255;255m\u001b[38;2;0;255;0mTAG \u001b[38;2;255;255;255m\n",
      "/n\n",
      "\u001b[38;2;0;0;0mS. cerv Codon Biases for 5HT4b Human \u001b[38;2;255;255;255m\n",
      "\u001b[38;2;0;0;255mATG \u001b[38;2;255;255;255m\u001b[38;2;0;255;0mGAC \u001b[38;2;255;255;255m\u001b[38;2;255;0;0mAAA \u001b[38;2;255;255;255m\u001b[38;2;0;255;0mCTT \u001b[38;2;255;255;255m\u001b[38;2;0;255;0mGAT \u001b[38;2;255;255;255m\u001b[38;2;255;0;0mGCT \u001b[38;2;255;255;255m\u001b[38;2;0;255;0mAAT \u001b[38;2;255;255;255m\u001b[38;2;255;0;0mGTG \u001b[38;2;255;255;255m\u001b[38;2;0;0;0mAGT \u001b[38;2;255;255;255m\u001b[38;2;0;0;0mTCT \u001b[38;2;255;255;255m\u001b[38;2;255;0;0mGAG \u001b[38;2;255;255;255m\u001b[38;2;255;0;0mGAG \u001b[38;2;255;255;255m\u001b[38;2;255;0;0mGGT \u001b[38;2;255;255;255m\u001b[38;2;0;255;0mTTC \u001b[38;2;255;255;255m\u001b[38;2;255;0;0mGGG \u001b[38;2;255;255;255m\u001b[38;2;0;0;0mTCA \u001b[38;2;255;255;255m\u001b[38;2;255;0;0mGTG \u001b[38;2;255;255;255m\u001b[38;2;255;0;0mGAG \u001b[38;2;255;255;255m\u001b[38;2;255;0;0mAAG \u001b[38;2;255;255;255m\u001b[38;2;255;0;0mGTG \u001b[38;2;255;255;255m\u001b[38;2;255;0;0mGTG \u001b[38;2;255;255;255m\u001b[38;2;0;255;0mCTG \u001b[38;2;255;255;255m\u001b[38;2;0;255;0mCTC \u001b[38;2;255;255;255m\u001b[38;2;255;0;0mACG \u001b[38;2;255;255;255m\u001b[38;2;0;255;0mTTT \u001b[38;2;255;255;255m\u001b[38;2;0;255;0mCTC \u001b[38;2;255;255;255m\u001b[38;2;0;0;0mTCG \u001b[38;2;255;255;255m\u001b[38;2;255;0;0mACG \u001b[38;2;255;255;255m\u001b[38;2;255;0;0mGTT \u001b[38;2;255;255;255m\u001b[38;2;0;0;0mATC \u001b[38;2;255;255;255m\u001b[38;2;0;255;0mCTG \u001b[38;2;255;255;255m\u001b[38;2;0;0;255mATG \u001b[38;2;255;255;255m\u001b[38;2;255;0;0mGCC \u001b[38;2;255;255;255m\u001b[38;2;0;0;0mATC \u001b[38;2;255;255;255m\u001b[38;2;0;255;0mTTG \u001b[38;2;255;255;255m\u001b[38;2;255;0;0mGGG \u001b[38;2;255;255;255m\u001b[38;2;0;255;0mAAC \u001b[38;2;255;255;255m\u001b[38;2;0;255;0mCTG \u001b[38;2;255;255;255m\u001b[38;2;0;255;0mCTG \u001b[38;2;255;255;255m\u001b[38;2;255;0;0mGTG \u001b[38;2;255;255;255m\u001b[38;2;0;0;255mATG \u001b[38;2;255;255;255m\u001b[38;2;255;0;0mGTG \u001b[38;2;255;255;255m\u001b[38;2;255;0;0mGCT \u001b[38;2;255;255;255m\u001b[38;2;255;0;0mGTG \u001b[38;2;255;255;255m\u001b[38;2;0;255;0mTGC \u001b[38;2;255;255;255m\u001b[38;2;0;0;255mTGG \u001b[38;2;255;255;255m\u001b[38;2;0;255;0mGAC \u001b[38;2;255;255;255m\u001b[38;2;0;0;0mAGG \u001b[38;2;255;255;255m\u001b[38;2;255;0;0mCAG \u001b[38;2;255;255;255m\u001b[38;2;0;255;0mCTC \u001b[38;2;255;255;255m\u001b[38;2;0;0;0mAGG \u001b[38;2;255;255;255m\u001b[38;2;255;0;0mAAA \u001b[38;2;255;255;255m\u001b[38;2;0;0;0mATA \u001b[38;2;255;255;255m\u001b[38;2;255;0;0mAAA \u001b[38;2;255;255;255m\u001b[38;2;255;0;0mACA \u001b[38;2;255;255;255m\u001b[38;2;0;255;0mAAT \u001b[38;2;255;255;255m\u001b[38;2;0;255;0mTAT \u001b[38;2;255;255;255m\u001b[38;2;0;255;0mTTC \u001b[38;2;255;255;255m\u001b[38;2;0;0;0mATT \u001b[38;2;255;255;255m\u001b[38;2;255;0;0mGTA \u001b[38;2;255;255;255m\u001b[38;2;0;0;0mTCT \u001b[38;2;255;255;255m\u001b[38;2;0;255;0mCTT \u001b[38;2;255;255;255m\u001b[38;2;255;0;0mGCT \u001b[38;2;255;255;255m\u001b[38;2;0;255;0mTTT \u001b[38;2;255;255;255m\u001b[38;2;255;0;0mGCG \u001b[38;2;255;255;255m\u001b[38;2;0;255;0mGAT \u001b[38;2;255;255;255m\u001b[38;2;0;255;0mCTG \u001b[38;2;255;255;255m\u001b[38;2;0;255;0mCTG \u001b[38;2;255;255;255m\u001b[38;2;255;0;0mGTT \u001b[38;2;255;255;255m\u001b[38;2;0;0;0mTCG \u001b[38;2;255;255;255m\u001b[38;2;255;0;0mGTG \u001b[38;2;255;255;255m\u001b[38;2;0;255;0mCTG \u001b[38;2;255;255;255m\u001b[38;2;255;0;0mGTG \u001b[38;2;255;255;255m\u001b[38;2;0;0;255mATG \u001b[38;2;255;255;255m\u001b[38;2;255;0;0mCCC \u001b[38;2;255;255;255m\u001b[38;2;0;255;0mTTT \u001b[38;2;255;255;255m\u001b[38;2;255;0;0mGGT \u001b[38;2;255;255;255m\u001b[38;2;255;0;0mGCC \u001b[38;2;255;255;255m\u001b[38;2;0;0;0mATT \u001b[38;2;255;255;255m\u001b[38;2;255;0;0mGAG \u001b[38;2;255;255;255m\u001b[38;2;0;255;0mCTG \u001b[38;2;255;255;255m\u001b[38;2;255;0;0mGTT \u001b[38;2;255;255;255m\u001b[38;2;255;0;0mCAA \u001b[38;2;255;255;255m\u001b[38;2;0;255;0mGAC \u001b[38;2;255;255;255m\u001b[38;2;0;0;0mATC \u001b[38;2;255;255;255m\u001b[38;2;0;0;255mTGG \u001b[38;2;255;255;255m\u001b[38;2;0;0;0mATT \u001b[38;2;255;255;255m\u001b[38;2;0;255;0mTAT \u001b[38;2;255;255;255m\u001b[38;2;255;0;0mGGG \u001b[38;2;255;255;255m\u001b[38;2;255;0;0mGAG \u001b[38;2;255;255;255m\u001b[38;2;255;0;0mGTG \u001b[38;2;255;255;255m\u001b[38;2;0;255;0mTTT \u001b[38;2;255;255;255m\u001b[38;2;0;255;0mTGT \u001b[38;2;255;255;255m\u001b[38;2;0;255;0mCTT \u001b[38;2;255;255;255m\u001b[38;2;255;0;0mGTT \u001b[38;2;255;255;255m\u001b[38;2;0;0;0mCGG \u001b[38;2;255;255;255m\u001b[38;2;255;0;0mACA \u001b[38;2;255;255;255m\u001b[38;2;0;0;0mTCT \u001b[38;2;255;255;255m\u001b[38;2;0;255;0mCTG \u001b[38;2;255;255;255m\u001b[38;2;0;255;0mGAC \u001b[38;2;255;255;255m\u001b[38;2;255;0;0mGTC \u001b[38;2;255;255;255m\u001b[38;2;0;255;0mCTG \u001b[38;2;255;255;255m\u001b[38;2;0;255;0mCTC \u001b[38;2;255;255;255m\u001b[38;2;255;0;0mACA \u001b[38;2;255;255;255m\u001b[38;2;255;0;0mACG \u001b[38;2;255;255;255m\u001b[38;2;255;0;0mGCA \u001b[38;2;255;255;255m\u001b[38;2;0;0;0mTCG \u001b[38;2;255;255;255m\u001b[38;2;0;0;0mATT \u001b[38;2;255;255;255m\u001b[38;2;0;255;0mTTT \u001b[38;2;255;255;255m\u001b[38;2;0;255;0mCAC \u001b[38;2;255;255;255m\u001b[38;2;0;255;0mCTG \u001b[38;2;255;255;255m\u001b[38;2;0;255;0mTGC \u001b[38;2;255;255;255m\u001b[38;2;0;255;0mTGC \u001b[38;2;255;255;255m\u001b[38;2;0;0;0mATT \u001b[38;2;255;255;255m\u001b[38;2;0;0;0mTCT \u001b[38;2;255;255;255m\u001b[38;2;0;255;0mCTG \u001b[38;2;255;255;255m\u001b[38;2;0;255;0mGAT \u001b[38;2;255;255;255m\u001b[38;2;0;0;0mAGG \u001b[38;2;255;255;255m\u001b[38;2;0;255;0mTAT \u001b[38;2;255;255;255m\u001b[38;2;0;255;0mTAC \u001b[38;2;255;255;255m\u001b[38;2;255;0;0mGCC \u001b[38;2;255;255;255m\u001b[38;2;0;0;0mATC \u001b[38;2;255;255;255m\u001b[38;2;0;255;0mTGC \u001b[38;2;255;255;255m\u001b[38;2;0;255;0mTGC \u001b[38;2;255;255;255m\u001b[38;2;255;0;0mCAG \u001b[38;2;255;255;255m\u001b[38;2;255;0;0mCCT \u001b[38;2;255;255;255m\u001b[38;2;0;255;0mTTG \u001b[38;2;255;255;255m\u001b[38;2;255;0;0mGTC \u001b[38;2;255;255;255m\u001b[38;2;0;255;0mTAT \u001b[38;2;255;255;255m\u001b[38;2;0;0;0mAGG \u001b[38;2;255;255;255m\u001b[38;2;0;255;0mAAC \u001b[38;2;255;255;255m\u001b[38;2;255;0;0mAAG \u001b[38;2;255;255;255m\u001b[38;2;0;0;255mATG \u001b[38;2;255;255;255m\u001b[38;2;255;0;0mACC \u001b[38;2;255;255;255m\u001b[38;2;255;0;0mCCT \u001b[38;2;255;255;255m\u001b[38;2;0;255;0mCTG \u001b[38;2;255;255;255m\u001b[38;2;0;0;0mCGC \u001b[38;2;255;255;255m\u001b[38;2;0;0;0mATC \u001b[38;2;255;255;255m\u001b[38;2;255;0;0mGCA \u001b[38;2;255;255;255m\u001b[38;2;0;255;0mTTA \u001b[38;2;255;255;255m\u001b[38;2;0;0;255mATG \u001b[38;2;255;255;255m\u001b[38;2;0;255;0mCTG \u001b[38;2;255;255;255m\u001b[38;2;255;0;0mGGA \u001b[38;2;255;255;255m\u001b[38;2;255;0;0mGGC \u001b[38;2;255;255;255m\u001b[38;2;0;255;0mTGC \u001b[38;2;255;255;255m\u001b[38;2;0;0;255mTGG \u001b[38;2;255;255;255m\u001b[38;2;255;0;0mGTC \u001b[38;2;255;255;255m\u001b[38;2;0;0;0mATC \u001b[38;2;255;255;255m\u001b[38;2;255;0;0mCCC \u001b[38;2;255;255;255m\u001b[38;2;255;0;0mACG \u001b[38;2;255;255;255m\u001b[38;2;0;255;0mTTT \u001b[38;2;255;255;255m\u001b[38;2;0;0;0mATT \u001b[38;2;255;255;255m\u001b[38;2;0;0;0mTCT \u001b[38;2;255;255;255m\u001b[38;2;0;255;0mTTT \u001b[38;2;255;255;255m\u001b[38;2;0;255;0mCTC \u001b[38;2;255;255;255m\u001b[38;2;255;0;0mCCT \u001b[38;2;255;255;255m\u001b[38;2;0;0;0mATA \u001b[38;2;255;255;255m\u001b[38;2;0;0;255mATG \u001b[38;2;255;255;255m\u001b[38;2;255;0;0mCAA \u001b[38;2;255;255;255m\u001b[38;2;255;0;0mGGC \u001b[38;2;255;255;255m\u001b[38;2;0;0;255mTGG \u001b[38;2;255;255;255m\u001b[38;2;0;255;0mAAT \u001b[38;2;255;255;255m\u001b[38;2;0;255;0mAAC \u001b[38;2;255;255;255m\u001b[38;2;0;0;0mATT \u001b[38;2;255;255;255m\u001b[38;2;255;0;0mGGC \u001b[38;2;255;255;255m\u001b[38;2;0;0;0mATA \u001b[38;2;255;255;255m\u001b[38;2;0;0;0mATT \u001b[38;2;255;255;255m\u001b[38;2;0;255;0mGAT \u001b[38;2;255;255;255m\u001b[38;2;0;255;0mTTG \u001b[38;2;255;255;255m\u001b[38;2;0;0;0mATA \u001b[38;2;255;255;255m\u001b[38;2;255;0;0mGAA \u001b[38;2;255;255;255m\u001b[38;2;255;0;0mAAG \u001b[38;2;255;255;255m\u001b[38;2;0;0;0mAGG \u001b[38;2;255;255;255m\u001b[38;2;255;0;0mAAG \u001b[38;2;255;255;255m\u001b[38;2;0;255;0mTTC \u001b[38;2;255;255;255m\u001b[38;2;0;255;0mAAC \u001b[38;2;255;255;255m\u001b[38;2;255;0;0mCAG \u001b[38;2;255;255;255m\u001b[38;2;0;255;0mAAC \u001b[38;2;255;255;255m\u001b[38;2;0;0;0mTCT \u001b[38;2;255;255;255m\u001b[38;2;0;255;0mAAC \u001b[38;2;255;255;255m\u001b[38;2;0;0;0mTCT \u001b[38;2;255;255;255m\u001b[38;2;255;0;0mACG \u001b[38;2;255;255;255m\u001b[38;2;0;255;0mTAC \u001b[38;2;255;255;255m\u001b[38;2;0;255;0mTGT \u001b[38;2;255;255;255m\u001b[38;2;255;0;0mGTC \u001b[38;2;255;255;255m\u001b[38;2;0;255;0mTTC \u001b[38;2;255;255;255m\u001b[38;2;0;0;255mATG \u001b[38;2;255;255;255m\u001b[38;2;255;0;0mGTC \u001b[38;2;255;255;255m\u001b[38;2;0;255;0mAAC \u001b[38;2;255;255;255m\u001b[38;2;255;0;0mAAG \u001b[38;2;255;255;255m\u001b[38;2;255;0;0mCCC \u001b[38;2;255;255;255m\u001b[38;2;0;255;0mTAC \u001b[38;2;255;255;255m\u001b[38;2;255;0;0mGCC \u001b[38;2;255;255;255m\u001b[38;2;0;0;0mATC \u001b[38;2;255;255;255m\u001b[38;2;255;0;0mACC \u001b[38;2;255;255;255m\u001b[38;2;0;255;0mTGC \u001b[38;2;255;255;255m\u001b[38;2;0;0;0mTCT \u001b[38;2;255;255;255m\u001b[38;2;255;0;0mGTG \u001b[38;2;255;255;255m\u001b[38;2;255;0;0mGTG \u001b[38;2;255;255;255m\u001b[38;2;255;0;0mGCC \u001b[38;2;255;255;255m\u001b[38;2;0;255;0mTTC \u001b[38;2;255;255;255m\u001b[38;2;0;255;0mTAC \u001b[38;2;255;255;255m\u001b[38;2;0;0;0mATC \u001b[38;2;255;255;255m\u001b[38;2;255;0;0mCCA \u001b[38;2;255;255;255m\u001b[38;2;0;255;0mTTT \u001b[38;2;255;255;255m\u001b[38;2;0;255;0mCTC \u001b[38;2;255;255;255m\u001b[38;2;0;255;0mCTC \u001b[38;2;255;255;255m\u001b[38;2;0;0;255mATG \u001b[38;2;255;255;255m\u001b[38;2;255;0;0mGTG \u001b[38;2;255;255;255m\u001b[38;2;0;255;0mCTG \u001b[38;2;255;255;255m\u001b[38;2;255;0;0mGCC \u001b[38;2;255;255;255m\u001b[38;2;0;255;0mTAT \u001b[38;2;255;255;255m\u001b[38;2;0;255;0mTAC \u001b[38;2;255;255;255m\u001b[38;2;0;0;0mCGC \u001b[38;2;255;255;255m\u001b[38;2;0;0;0mATC \u001b[38;2;255;255;255m\u001b[38;2;0;255;0mTAT \u001b[38;2;255;255;255m\u001b[38;2;255;0;0mGTC \u001b[38;2;255;255;255m\u001b[38;2;255;0;0mACA \u001b[38;2;255;255;255m\u001b[38;2;255;0;0mGCT \u001b[38;2;255;255;255m\u001b[38;2;255;0;0mAAG \u001b[38;2;255;255;255m\u001b[38;2;255;0;0mGAG \u001b[38;2;255;255;255m\u001b[38;2;0;255;0mCAT \u001b[38;2;255;255;255m\u001b[38;2;255;0;0mGCC \u001b[38;2;255;255;255m\u001b[38;2;0;255;0mCAT \u001b[38;2;255;255;255m\u001b[38;2;255;0;0mCAG \u001b[38;2;255;255;255m\u001b[38;2;0;0;0mATC \u001b[38;2;255;255;255m\u001b[38;2;255;0;0mCAG \u001b[38;2;255;255;255m\u001b[38;2;0;0;255mATG \u001b[38;2;255;255;255m\u001b[38;2;0;255;0mTTA \u001b[38;2;255;255;255m\u001b[38;2;255;0;0mCAA \u001b[38;2;255;255;255m\u001b[38;2;0;0;0mCGG \u001b[38;2;255;255;255m\u001b[38;2;255;0;0mGCA \u001b[38;2;255;255;255m\u001b[38;2;255;0;0mGGA \u001b[38;2;255;255;255m\u001b[38;2;255;0;0mGCC \u001b[38;2;255;255;255m\u001b[38;2;0;0;0mTCC \u001b[38;2;255;255;255m\u001b[38;2;0;0;0mTCC \u001b[38;2;255;255;255m\u001b[38;2;255;0;0mGAG \u001b[38;2;255;255;255m\u001b[38;2;0;0;0mAGC \u001b[38;2;255;255;255m\u001b[38;2;0;0;0mAGG \u001b[38;2;255;255;255m\u001b[38;2;255;0;0mCCT \u001b[38;2;255;255;255m\u001b[38;2;255;0;0mCAG \u001b[38;2;255;255;255m\u001b[38;2;0;0;0mTCG \u001b[38;2;255;255;255m\u001b[38;2;255;0;0mGCA \u001b[38;2;255;255;255m\u001b[38;2;0;255;0mGAC \u001b[38;2;255;255;255m\u001b[38;2;255;0;0mCAG \u001b[38;2;255;255;255m\u001b[38;2;0;255;0mCAT \u001b[38;2;255;255;255m\u001b[38;2;0;0;0mAGC \u001b[38;2;255;255;255m\u001b[38;2;255;0;0mACT \u001b[38;2;255;255;255m\u001b[38;2;0;255;0mCAT \u001b[38;2;255;255;255m\u001b[38;2;0;0;0mCGC \u001b[38;2;255;255;255m\u001b[38;2;0;0;255mATG \u001b[38;2;255;255;255m\u001b[38;2;0;0;0mAGG \u001b[38;2;255;255;255m\u001b[38;2;255;0;0mACA \u001b[38;2;255;255;255m\u001b[38;2;255;0;0mGAG \u001b[38;2;255;255;255m\u001b[38;2;255;0;0mACC \u001b[38;2;255;255;255m\u001b[38;2;255;0;0mAAA \u001b[38;2;255;255;255m\u001b[38;2;255;0;0mGCA \u001b[38;2;255;255;255m\u001b[38;2;255;0;0mGCC \u001b[38;2;255;255;255m\u001b[38;2;255;0;0mAAG \u001b[38;2;255;255;255m\u001b[38;2;255;0;0mACC \u001b[38;2;255;255;255m\u001b[38;2;0;255;0mCTG \u001b[38;2;255;255;255m\u001b[38;2;0;255;0mTGC \u001b[38;2;255;255;255m\u001b[38;2;0;0;0mATC \u001b[38;2;255;255;255m\u001b[38;2;0;0;0mATC \u001b[38;2;255;255;255m\u001b[38;2;0;0;255mATG \u001b[38;2;255;255;255m\u001b[38;2;255;0;0mGGT \u001b[38;2;255;255;255m\u001b[38;2;0;255;0mTGC \u001b[38;2;255;255;255m\u001b[38;2;0;255;0mTTC \u001b[38;2;255;255;255m\u001b[38;2;0;255;0mTGC \u001b[38;2;255;255;255m\u001b[38;2;0;255;0mCTC \u001b[38;2;255;255;255m\u001b[38;2;0;255;0mTGC \u001b[38;2;255;255;255m\u001b[38;2;0;0;255mTGG \u001b[38;2;255;255;255m\u001b[38;2;255;0;0mGCA \u001b[38;2;255;255;255m\u001b[38;2;255;0;0mCCA \u001b[38;2;255;255;255m\u001b[38;2;0;255;0mTTC \u001b[38;2;255;255;255m\u001b[38;2;0;255;0mTTT \u001b[38;2;255;255;255m\u001b[38;2;255;0;0mGTC \u001b[38;2;255;255;255m\u001b[38;2;255;0;0mACC \u001b[38;2;255;255;255m\u001b[38;2;0;255;0mAAT \u001b[38;2;255;255;255m\u001b[38;2;0;0;0mATT \u001b[38;2;255;255;255m\u001b[38;2;255;0;0mGTG \u001b[38;2;255;255;255m\u001b[38;2;0;255;0mGAT \u001b[38;2;255;255;255m\u001b[38;2;255;0;0mCCT \u001b[38;2;255;255;255m\u001b[38;2;0;255;0mTTC \u001b[38;2;255;255;255m\u001b[38;2;0;0;0mATA \u001b[38;2;255;255;255m\u001b[38;2;0;255;0mGAC \u001b[38;2;255;255;255m\u001b[38;2;0;255;0mTAC \u001b[38;2;255;255;255m\u001b[38;2;255;0;0mACT \u001b[38;2;255;255;255m\u001b[38;2;255;0;0mGTC \u001b[38;2;255;255;255m\u001b[38;2;255;0;0mCCT \u001b[38;2;255;255;255m\u001b[38;2;255;0;0mGGG \u001b[38;2;255;255;255m\u001b[38;2;255;0;0mCAG \u001b[38;2;255;255;255m\u001b[38;2;255;0;0mGTG \u001b[38;2;255;255;255m\u001b[38;2;0;0;255mTGG \u001b[38;2;255;255;255m\u001b[38;2;255;0;0mACT \u001b[38;2;255;255;255m\u001b[38;2;255;0;0mGCT \u001b[38;2;255;255;255m\u001b[38;2;0;255;0mTTC \u001b[38;2;255;255;255m\u001b[38;2;0;255;0mCTC \u001b[38;2;255;255;255m\u001b[38;2;0;0;255mTGG \u001b[38;2;255;255;255m\u001b[38;2;0;255;0mCTC \u001b[38;2;255;255;255m\u001b[38;2;255;0;0mGGC \u001b[38;2;255;255;255m\u001b[38;2;0;255;0mTAT \u001b[38;2;255;255;255m\u001b[38;2;0;0;0mATC \u001b[38;2;255;255;255m\u001b[38;2;0;255;0mAAT \u001b[38;2;255;255;255m\u001b[38;2;0;0;0mTCC \u001b[38;2;255;255;255m\u001b[38;2;255;0;0mGGG \u001b[38;2;255;255;255m\u001b[38;2;0;255;0mTTG \u001b[38;2;255;255;255m\u001b[38;2;0;255;0mAAC \u001b[38;2;255;255;255m\u001b[38;2;255;0;0mCCT \u001b[38;2;255;255;255m\u001b[38;2;0;255;0mTTT \u001b[38;2;255;255;255m\u001b[38;2;0;255;0mCTC \u001b[38;2;255;255;255m\u001b[38;2;0;255;0mTAC \u001b[38;2;255;255;255m\u001b[38;2;255;0;0mGCC \u001b[38;2;255;255;255m\u001b[38;2;0;255;0mTTC \u001b[38;2;255;255;255m\u001b[38;2;0;255;0mTTG \u001b[38;2;255;255;255m\u001b[38;2;0;255;0mAAT \u001b[38;2;255;255;255m\u001b[38;2;255;0;0mAAG \u001b[38;2;255;255;255m\u001b[38;2;0;0;0mTCT \u001b[38;2;255;255;255m\u001b[38;2;0;255;0mTTT \u001b[38;2;255;255;255m\u001b[38;2;0;0;0mAGA \u001b[38;2;255;255;255m\u001b[38;2;0;0;0mCGT \u001b[38;2;255;255;255m\u001b[38;2;255;0;0mGCC \u001b[38;2;255;255;255m\u001b[38;2;0;255;0mTTC \u001b[38;2;255;255;255m\u001b[38;2;0;255;0mCTC \u001b[38;2;255;255;255m\u001b[38;2;0;0;0mATC \u001b[38;2;255;255;255m\u001b[38;2;0;0;0mATC \u001b[38;2;255;255;255m\u001b[38;2;0;255;0mCTC \u001b[38;2;255;255;255m\u001b[38;2;0;255;0mTGC \u001b[38;2;255;255;255m\u001b[38;2;0;255;0mTGT \u001b[38;2;255;255;255m\u001b[38;2;0;255;0mGAT \u001b[38;2;255;255;255m\u001b[38;2;0;255;0mGAT \u001b[38;2;255;255;255m\u001b[38;2;255;0;0mGAG \u001b[38;2;255;255;255m\u001b[38;2;0;0;0mCGC \u001b[38;2;255;255;255m\u001b[38;2;0;255;0mTAC \u001b[38;2;255;255;255m\u001b[38;2;0;0;0mCGA \u001b[38;2;255;255;255m\u001b[38;2;0;0;0mAGA \u001b[38;2;255;255;255m\u001b[38;2;255;0;0mCCT \u001b[38;2;255;255;255m\u001b[38;2;0;0;0mTCC \u001b[38;2;255;255;255m\u001b[38;2;0;0;0mATT \u001b[38;2;255;255;255m\u001b[38;2;0;255;0mCTG \u001b[38;2;255;255;255m\u001b[38;2;255;0;0mGGC \u001b[38;2;255;255;255m\u001b[38;2;255;0;0mCAG \u001b[38;2;255;255;255m\u001b[38;2;255;0;0mACT \u001b[38;2;255;255;255m\u001b[38;2;255;0;0mGTC \u001b[38;2;255;255;255m\u001b[38;2;255;0;0mCCT \u001b[38;2;255;255;255m\u001b[38;2;0;255;0mTGT \u001b[38;2;255;255;255m\u001b[38;2;0;0;0mTCA \u001b[38;2;255;255;255m\u001b[38;2;255;0;0mACC \u001b[38;2;255;255;255m\u001b[38;2;255;0;0mACA \u001b[38;2;255;255;255m\u001b[38;2;255;0;0mACC \u001b[38;2;255;255;255m\u001b[38;2;0;0;0mATT \u001b[38;2;255;255;255m\u001b[38;2;0;255;0mAAT \u001b[38;2;255;255;255m\u001b[38;2;255;0;0mGGA \u001b[38;2;255;255;255m\u001b[38;2;0;0;0mTCC \u001b[38;2;255;255;255m\u001b[38;2;255;0;0mACA \u001b[38;2;255;255;255m\u001b[38;2;0;255;0mCAT \u001b[38;2;255;255;255m\u001b[38;2;255;0;0mGTA \u001b[38;2;255;255;255m\u001b[38;2;0;255;0mCTA \u001b[38;2;255;255;255m\u001b[38;2;0;0;0mAGG \u001b[38;2;255;255;255m\u001b[38;2;0;255;0mGAT \u001b[38;2;255;255;255m\u001b[38;2;255;0;0mGCA \u001b[38;2;255;255;255m\u001b[38;2;255;0;0mGTG \u001b[38;2;255;255;255m\u001b[38;2;255;0;0mGAG \u001b[38;2;255;255;255m\u001b[38;2;0;255;0mTGT \u001b[38;2;255;255;255m\u001b[38;2;255;0;0mGGT \u001b[38;2;255;255;255m\u001b[38;2;255;0;0mGGC \u001b[38;2;255;255;255m\u001b[38;2;255;0;0mCAG \u001b[38;2;255;255;255m\u001b[38;2;0;0;255mTGG \u001b[38;2;255;255;255m\u001b[38;2;255;0;0mGAG \u001b[38;2;255;255;255m\u001b[38;2;0;0;0mAGT \u001b[38;2;255;255;255m\u001b[38;2;255;0;0mCAG \u001b[38;2;255;255;255m\u001b[38;2;0;255;0mTGT \u001b[38;2;255;255;255m\u001b[38;2;0;255;0mCAC \u001b[38;2;255;255;255m\u001b[38;2;255;0;0mCCG \u001b[38;2;255;255;255m\u001b[38;2;255;0;0mCCA \u001b[38;2;255;255;255m\u001b[38;2;255;0;0mGCA \u001b[38;2;255;255;255m\u001b[38;2;255;0;0mACT \u001b[38;2;255;255;255m\u001b[38;2;0;0;0mTCT \u001b[38;2;255;255;255m\u001b[38;2;255;0;0mCCT \u001b[38;2;255;255;255m\u001b[38;2;0;255;0mTTG \u001b[38;2;255;255;255m\u001b[38;2;255;0;0mGTG \u001b[38;2;255;255;255m\u001b[38;2;255;0;0mGCT \u001b[38;2;255;255;255m\u001b[38;2;255;0;0mGCT \u001b[38;2;255;255;255m\u001b[38;2;255;0;0mCAG \u001b[38;2;255;255;255m\u001b[38;2;255;0;0mCCC \u001b[38;2;255;255;255m\u001b[38;2;0;0;0mAGT \u001b[38;2;255;255;255m\u001b[38;2;0;255;0mGAC \u001b[38;2;255;255;255m\u001b[38;2;255;0;0mACT \u001b[38;2;255;255;255m\u001b[38;2;0;0;0mTAG \u001b[38;2;255;255;255m\n",
      "/n\n",
      "\u001b[38;2;0;0;0mS. cerv-optimized Codon Biases for 5HT4b Human \u001b[38;2;255;255;255m\n",
      "\u001b[38;2;0;0;255mATG \u001b[38;2;255;255;255m\u001b[38;2;0;255;0mGAT \u001b[38;2;255;255;255m\u001b[38;2;255;0;0mAAA \u001b[38;2;255;255;255m\u001b[38;2;0;255;0mTTG \u001b[38;2;255;255;255m\u001b[38;2;0;255;0mGAT \u001b[38;2;255;255;255m\u001b[38;2;255;0;0mGCT \u001b[38;2;255;255;255m\u001b[38;2;0;255;0mAAT \u001b[38;2;255;255;255m\u001b[38;2;255;0;0mGTT \u001b[38;2;255;255;255m\u001b[38;2;0;0;0mTCT \u001b[38;2;255;255;255m\u001b[38;2;0;0;0mTCT \u001b[38;2;255;255;255m\u001b[38;2;255;0;0mGAA \u001b[38;2;255;255;255m\u001b[38;2;255;0;0mGAA \u001b[38;2;255;255;255m\u001b[38;2;255;0;0mGGT \u001b[38;2;255;255;255m\u001b[38;2;0;255;0mTTT \u001b[38;2;255;255;255m\u001b[38;2;255;0;0mGGT \u001b[38;2;255;255;255m\u001b[38;2;0;0;0mTCT \u001b[38;2;255;255;255m\u001b[38;2;255;0;0mGTT \u001b[38;2;255;255;255m\u001b[38;2;255;0;0mGAA \u001b[38;2;255;255;255m\u001b[38;2;255;0;0mAAA \u001b[38;2;255;255;255m\u001b[38;2;255;0;0mGTT \u001b[38;2;255;255;255m\u001b[38;2;255;0;0mGTT \u001b[38;2;255;255;255m\u001b[38;2;0;255;0mTTG \u001b[38;2;255;255;255m\u001b[38;2;0;255;0mTTG \u001b[38;2;255;255;255m\u001b[38;2;255;0;0mACT \u001b[38;2;255;255;255m\u001b[38;2;0;255;0mTTT \u001b[38;2;255;255;255m\u001b[38;2;0;255;0mTTG \u001b[38;2;255;255;255m\u001b[38;2;0;0;0mTCT \u001b[38;2;255;255;255m\u001b[38;2;255;0;0mACT \u001b[38;2;255;255;255m\u001b[38;2;255;0;0mGTT \u001b[38;2;255;255;255m\u001b[38;2;0;0;0mATT \u001b[38;2;255;255;255m\u001b[38;2;0;255;0mTTG \u001b[38;2;255;255;255m\u001b[38;2;0;0;255mATG \u001b[38;2;255;255;255m\u001b[38;2;255;0;0mGCT \u001b[38;2;255;255;255m\u001b[38;2;0;0;0mATT \u001b[38;2;255;255;255m\u001b[38;2;0;255;0mTTG \u001b[38;2;255;255;255m\u001b[38;2;255;0;0mGGT \u001b[38;2;255;255;255m\u001b[38;2;0;255;0mAAT \u001b[38;2;255;255;255m\u001b[38;2;0;255;0mTTG \u001b[38;2;255;255;255m\u001b[38;2;0;255;0mTTG \u001b[38;2;255;255;255m\u001b[38;2;255;0;0mGTT \u001b[38;2;255;255;255m\u001b[38;2;0;0;255mATG \u001b[38;2;255;255;255m\u001b[38;2;255;0;0mGTT \u001b[38;2;255;255;255m\u001b[38;2;255;0;0mGCT \u001b[38;2;255;255;255m\u001b[38;2;255;0;0mGTT \u001b[38;2;255;255;255m\u001b[38;2;0;255;0mTGT \u001b[38;2;255;255;255m\u001b[38;2;0;0;255mTGG \u001b[38;2;255;255;255m\u001b[38;2;0;255;0mGAT \u001b[38;2;255;255;255m\u001b[38;2;0;0;0mAGA \u001b[38;2;255;255;255m\u001b[38;2;255;0;0mCAA \u001b[38;2;255;255;255m\u001b[38;2;0;255;0mTTG \u001b[38;2;255;255;255m\u001b[38;2;0;0;0mAGA \u001b[38;2;255;255;255m\u001b[38;2;255;0;0mAAA \u001b[38;2;255;255;255m\u001b[38;2;0;0;0mATT \u001b[38;2;255;255;255m\u001b[38;2;255;0;0mAAA \u001b[38;2;255;255;255m\u001b[38;2;255;0;0mACT \u001b[38;2;255;255;255m\u001b[38;2;0;255;0mAAT \u001b[38;2;255;255;255m\u001b[38;2;0;255;0mTAT \u001b[38;2;255;255;255m\u001b[38;2;0;255;0mTTT \u001b[38;2;255;255;255m\u001b[38;2;0;0;0mATT \u001b[38;2;255;255;255m\u001b[38;2;255;0;0mGTT \u001b[38;2;255;255;255m\u001b[38;2;0;0;0mTCT \u001b[38;2;255;255;255m\u001b[38;2;0;255;0mTTG \u001b[38;2;255;255;255m\u001b[38;2;255;0;0mGCT \u001b[38;2;255;255;255m\u001b[38;2;0;255;0mTTT \u001b[38;2;255;255;255m\u001b[38;2;255;0;0mGCT \u001b[38;2;255;255;255m\u001b[38;2;0;255;0mGAT \u001b[38;2;255;255;255m\u001b[38;2;0;255;0mTTG \u001b[38;2;255;255;255m\u001b[38;2;0;255;0mTTG \u001b[38;2;255;255;255m\u001b[38;2;255;0;0mGTT \u001b[38;2;255;255;255m\u001b[38;2;0;0;0mTCT \u001b[38;2;255;255;255m\u001b[38;2;255;0;0mGTT \u001b[38;2;255;255;255m\u001b[38;2;0;255;0mTTG \u001b[38;2;255;255;255m\u001b[38;2;255;0;0mGTT \u001b[38;2;255;255;255m\u001b[38;2;0;0;255mATG \u001b[38;2;255;255;255m\u001b[38;2;255;0;0mCCA \u001b[38;2;255;255;255m\u001b[38;2;0;255;0mTTT \u001b[38;2;255;255;255m\u001b[38;2;255;0;0mGGT \u001b[38;2;255;255;255m\u001b[38;2;255;0;0mGCT \u001b[38;2;255;255;255m\u001b[38;2;0;0;0mATT \u001b[38;2;255;255;255m\u001b[38;2;255;0;0mGAA \u001b[38;2;255;255;255m\u001b[38;2;0;255;0mTTG \u001b[38;2;255;255;255m\u001b[38;2;255;0;0mGTT \u001b[38;2;255;255;255m\u001b[38;2;255;0;0mCAA \u001b[38;2;255;255;255m\u001b[38;2;0;255;0mGAT \u001b[38;2;255;255;255m\u001b[38;2;0;0;0mATT \u001b[38;2;255;255;255m\u001b[38;2;0;0;255mTGG \u001b[38;2;255;255;255m\u001b[38;2;0;0;0mATT \u001b[38;2;255;255;255m\u001b[38;2;0;255;0mTAT \u001b[38;2;255;255;255m\u001b[38;2;255;0;0mGGT \u001b[38;2;255;255;255m\u001b[38;2;255;0;0mGAA \u001b[38;2;255;255;255m\u001b[38;2;255;0;0mGTT \u001b[38;2;255;255;255m\u001b[38;2;0;255;0mTTT \u001b[38;2;255;255;255m\u001b[38;2;0;255;0mTGT \u001b[38;2;255;255;255m\u001b[38;2;0;255;0mTTG \u001b[38;2;255;255;255m\u001b[38;2;255;0;0mGTT \u001b[38;2;255;255;255m\u001b[38;2;0;0;0mAGA \u001b[38;2;255;255;255m\u001b[38;2;255;0;0mACT \u001b[38;2;255;255;255m\u001b[38;2;0;0;0mTCT \u001b[38;2;255;255;255m\u001b[38;2;0;255;0mTTG \u001b[38;2;255;255;255m\u001b[38;2;0;255;0mGAT \u001b[38;2;255;255;255m\u001b[38;2;255;0;0mGTT \u001b[38;2;255;255;255m\u001b[38;2;0;255;0mTTG \u001b[38;2;255;255;255m\u001b[38;2;0;255;0mTTG \u001b[38;2;255;255;255m\u001b[38;2;255;0;0mACT \u001b[38;2;255;255;255m\u001b[38;2;255;0;0mACT \u001b[38;2;255;255;255m\u001b[38;2;255;0;0mGCT \u001b[38;2;255;255;255m\u001b[38;2;0;0;0mTCT \u001b[38;2;255;255;255m\u001b[38;2;0;0;0mATT \u001b[38;2;255;255;255m\u001b[38;2;0;255;0mTTT \u001b[38;2;255;255;255m\u001b[38;2;0;255;0mCAT \u001b[38;2;255;255;255m\u001b[38;2;0;255;0mTTG \u001b[38;2;255;255;255m\u001b[38;2;0;255;0mTGT \u001b[38;2;255;255;255m\u001b[38;2;0;255;0mTGT \u001b[38;2;255;255;255m\u001b[38;2;0;0;0mATT \u001b[38;2;255;255;255m\u001b[38;2;0;0;0mTCT \u001b[38;2;255;255;255m\u001b[38;2;0;255;0mTTG \u001b[38;2;255;255;255m\u001b[38;2;0;255;0mGAT \u001b[38;2;255;255;255m\u001b[38;2;0;0;0mAGA \u001b[38;2;255;255;255m\u001b[38;2;0;255;0mTAT \u001b[38;2;255;255;255m\u001b[38;2;0;255;0mTAT \u001b[38;2;255;255;255m\u001b[38;2;255;0;0mGCT \u001b[38;2;255;255;255m\u001b[38;2;0;0;0mATT \u001b[38;2;255;255;255m\u001b[38;2;0;255;0mTGT \u001b[38;2;255;255;255m\u001b[38;2;0;255;0mTGT \u001b[38;2;255;255;255m\u001b[38;2;255;0;0mCAA \u001b[38;2;255;255;255m\u001b[38;2;255;0;0mCCA \u001b[38;2;255;255;255m\u001b[38;2;0;255;0mTTG \u001b[38;2;255;255;255m\u001b[38;2;255;0;0mGTT \u001b[38;2;255;255;255m\u001b[38;2;0;255;0mTAT \u001b[38;2;255;255;255m\u001b[38;2;0;0;0mAGA \u001b[38;2;255;255;255m\u001b[38;2;0;255;0mAAT \u001b[38;2;255;255;255m\u001b[38;2;255;0;0mAAA \u001b[38;2;255;255;255m\u001b[38;2;0;0;255mATG \u001b[38;2;255;255;255m\u001b[38;2;255;0;0mACT \u001b[38;2;255;255;255m\u001b[38;2;255;0;0mCCA \u001b[38;2;255;255;255m\u001b[38;2;0;255;0mTTG \u001b[38;2;255;255;255m\u001b[38;2;0;0;0mAGA \u001b[38;2;255;255;255m\u001b[38;2;0;0;0mATT \u001b[38;2;255;255;255m\u001b[38;2;255;0;0mGCT \u001b[38;2;255;255;255m\u001b[38;2;0;255;0mTTG \u001b[38;2;255;255;255m\u001b[38;2;0;0;255mATG \u001b[38;2;255;255;255m\u001b[38;2;0;255;0mTTG \u001b[38;2;255;255;255m\u001b[38;2;255;0;0mGGT \u001b[38;2;255;255;255m\u001b[38;2;255;0;0mGGT \u001b[38;2;255;255;255m\u001b[38;2;0;255;0mTGT \u001b[38;2;255;255;255m\u001b[38;2;0;0;255mTGG \u001b[38;2;255;255;255m\u001b[38;2;255;0;0mGTT \u001b[38;2;255;255;255m\u001b[38;2;0;0;0mATT \u001b[38;2;255;255;255m\u001b[38;2;255;0;0mCCA \u001b[38;2;255;255;255m\u001b[38;2;255;0;0mACT \u001b[38;2;255;255;255m\u001b[38;2;0;255;0mTTT \u001b[38;2;255;255;255m\u001b[38;2;0;0;0mATT \u001b[38;2;255;255;255m\u001b[38;2;0;0;0mTCT \u001b[38;2;255;255;255m\u001b[38;2;0;255;0mTTT \u001b[38;2;255;255;255m\u001b[38;2;0;255;0mTTG \u001b[38;2;255;255;255m\u001b[38;2;255;0;0mCCA \u001b[38;2;255;255;255m\u001b[38;2;0;0;0mATT \u001b[38;2;255;255;255m\u001b[38;2;0;0;255mATG \u001b[38;2;255;255;255m\u001b[38;2;255;0;0mCAA \u001b[38;2;255;255;255m\u001b[38;2;255;0;0mGGT \u001b[38;2;255;255;255m\u001b[38;2;0;0;255mTGG \u001b[38;2;255;255;255m\u001b[38;2;0;255;0mAAT \u001b[38;2;255;255;255m\u001b[38;2;0;255;0mAAT \u001b[38;2;255;255;255m\u001b[38;2;0;0;0mATT \u001b[38;2;255;255;255m\u001b[38;2;255;0;0mGGT \u001b[38;2;255;255;255m\u001b[38;2;0;0;0mATT \u001b[38;2;255;255;255m\u001b[38;2;0;0;0mATT \u001b[38;2;255;255;255m\u001b[38;2;0;255;0mGAT \u001b[38;2;255;255;255m\u001b[38;2;0;255;0mTTG \u001b[38;2;255;255;255m\u001b[38;2;0;0;0mATT \u001b[38;2;255;255;255m\u001b[38;2;255;0;0mGAA \u001b[38;2;255;255;255m\u001b[38;2;255;0;0mAAA \u001b[38;2;255;255;255m\u001b[38;2;0;0;0mAGA \u001b[38;2;255;255;255m\u001b[38;2;255;0;0mAAA \u001b[38;2;255;255;255m\u001b[38;2;0;255;0mTTT \u001b[38;2;255;255;255m\u001b[38;2;0;255;0mAAT \u001b[38;2;255;255;255m\u001b[38;2;255;0;0mCAA \u001b[38;2;255;255;255m\u001b[38;2;0;255;0mAAT \u001b[38;2;255;255;255m\u001b[38;2;0;0;0mTCT \u001b[38;2;255;255;255m\u001b[38;2;0;255;0mAAT \u001b[38;2;255;255;255m\u001b[38;2;0;0;0mTCT \u001b[38;2;255;255;255m\u001b[38;2;255;0;0mACT \u001b[38;2;255;255;255m\u001b[38;2;0;255;0mTAT \u001b[38;2;255;255;255m\u001b[38;2;0;255;0mTGT \u001b[38;2;255;255;255m\u001b[38;2;255;0;0mGTT \u001b[38;2;255;255;255m\u001b[38;2;0;255;0mTTT \u001b[38;2;255;255;255m\u001b[38;2;0;0;255mATG \u001b[38;2;255;255;255m\u001b[38;2;255;0;0mGTT \u001b[38;2;255;255;255m\u001b[38;2;0;255;0mAAT \u001b[38;2;255;255;255m\u001b[38;2;255;0;0mAAA \u001b[38;2;255;255;255m\u001b[38;2;255;0;0mCCA \u001b[38;2;255;255;255m\u001b[38;2;0;255;0mTAT \u001b[38;2;255;255;255m\u001b[38;2;255;0;0mGCT \u001b[38;2;255;255;255m\u001b[38;2;0;0;0mATT \u001b[38;2;255;255;255m\u001b[38;2;255;0;0mACT \u001b[38;2;255;255;255m\u001b[38;2;0;255;0mTGT \u001b[38;2;255;255;255m\u001b[38;2;0;0;0mTCT \u001b[38;2;255;255;255m\u001b[38;2;255;0;0mGTT \u001b[38;2;255;255;255m\u001b[38;2;255;0;0mGTT \u001b[38;2;255;255;255m\u001b[38;2;255;0;0mGCT \u001b[38;2;255;255;255m\u001b[38;2;0;255;0mTTT \u001b[38;2;255;255;255m\u001b[38;2;0;255;0mTAT \u001b[38;2;255;255;255m\u001b[38;2;0;0;0mATT \u001b[38;2;255;255;255m\u001b[38;2;255;0;0mCCA \u001b[38;2;255;255;255m\u001b[38;2;0;255;0mTTT \u001b[38;2;255;255;255m\u001b[38;2;0;255;0mTTG \u001b[38;2;255;255;255m\u001b[38;2;0;255;0mTTG \u001b[38;2;255;255;255m\u001b[38;2;0;0;255mATG \u001b[38;2;255;255;255m\u001b[38;2;255;0;0mGTT \u001b[38;2;255;255;255m\u001b[38;2;0;255;0mTTG \u001b[38;2;255;255;255m\u001b[38;2;255;0;0mGCT \u001b[38;2;255;255;255m\u001b[38;2;0;255;0mTAT \u001b[38;2;255;255;255m\u001b[38;2;0;255;0mTAT \u001b[38;2;255;255;255m\u001b[38;2;0;0;0mAGA \u001b[38;2;255;255;255m\u001b[38;2;0;0;0mATT \u001b[38;2;255;255;255m\u001b[38;2;0;255;0mTAT \u001b[38;2;255;255;255m\u001b[38;2;255;0;0mGTT \u001b[38;2;255;255;255m\u001b[38;2;255;0;0mACT \u001b[38;2;255;255;255m\u001b[38;2;255;0;0mGCT \u001b[38;2;255;255;255m\u001b[38;2;255;0;0mAAA \u001b[38;2;255;255;255m\u001b[38;2;255;0;0mGAA \u001b[38;2;255;255;255m\u001b[38;2;0;255;0mCAT \u001b[38;2;255;255;255m\u001b[38;2;255;0;0mGCT \u001b[38;2;255;255;255m\u001b[38;2;0;255;0mCAT \u001b[38;2;255;255;255m\u001b[38;2;255;0;0mCAA \u001b[38;2;255;255;255m\u001b[38;2;0;0;0mATT \u001b[38;2;255;255;255m\u001b[38;2;255;0;0mCAA \u001b[38;2;255;255;255m\u001b[38;2;0;0;255mATG \u001b[38;2;255;255;255m\u001b[38;2;0;255;0mTTG \u001b[38;2;255;255;255m\u001b[38;2;255;0;0mCAA \u001b[38;2;255;255;255m\u001b[38;2;0;0;0mAGA \u001b[38;2;255;255;255m\u001b[38;2;255;0;0mGCT \u001b[38;2;255;255;255m\u001b[38;2;255;0;0mGGT \u001b[38;2;255;255;255m\u001b[38;2;255;0;0mGCT \u001b[38;2;255;255;255m\u001b[38;2;0;0;0mTCT \u001b[38;2;255;255;255m\u001b[38;2;0;0;0mTCT \u001b[38;2;255;255;255m\u001b[38;2;255;0;0mGAA \u001b[38;2;255;255;255m\u001b[38;2;0;0;0mTCT \u001b[38;2;255;255;255m\u001b[38;2;0;0;0mAGA \u001b[38;2;255;255;255m\u001b[38;2;255;0;0mCCA \u001b[38;2;255;255;255m\u001b[38;2;255;0;0mCAA \u001b[38;2;255;255;255m\u001b[38;2;0;0;0mTCT \u001b[38;2;255;255;255m\u001b[38;2;255;0;0mGCT \u001b[38;2;255;255;255m\u001b[38;2;0;255;0mGAT \u001b[38;2;255;255;255m\u001b[38;2;255;0;0mCAA \u001b[38;2;255;255;255m\u001b[38;2;0;255;0mCAT \u001b[38;2;255;255;255m\u001b[38;2;0;0;0mTCT \u001b[38;2;255;255;255m\u001b[38;2;255;0;0mACT \u001b[38;2;255;255;255m\u001b[38;2;0;255;0mCAT \u001b[38;2;255;255;255m\u001b[38;2;0;0;0mAGA \u001b[38;2;255;255;255m\u001b[38;2;0;0;255mATG \u001b[38;2;255;255;255m\u001b[38;2;0;0;0mAGA \u001b[38;2;255;255;255m\u001b[38;2;255;0;0mACT \u001b[38;2;255;255;255m\u001b[38;2;255;0;0mGAA \u001b[38;2;255;255;255m\u001b[38;2;255;0;0mACT \u001b[38;2;255;255;255m\u001b[38;2;255;0;0mAAA \u001b[38;2;255;255;255m\u001b[38;2;255;0;0mGCT \u001b[38;2;255;255;255m\u001b[38;2;255;0;0mGCT \u001b[38;2;255;255;255m\u001b[38;2;255;0;0mAAA \u001b[38;2;255;255;255m\u001b[38;2;255;0;0mACT \u001b[38;2;255;255;255m\u001b[38;2;0;255;0mTTG \u001b[38;2;255;255;255m\u001b[38;2;0;255;0mTGT \u001b[38;2;255;255;255m\u001b[38;2;0;0;0mATT \u001b[38;2;255;255;255m\u001b[38;2;0;0;0mATT \u001b[38;2;255;255;255m\u001b[38;2;0;0;255mATG \u001b[38;2;255;255;255m\u001b[38;2;255;0;0mGGT \u001b[38;2;255;255;255m\u001b[38;2;0;255;0mTGT \u001b[38;2;255;255;255m\u001b[38;2;0;255;0mTTT \u001b[38;2;255;255;255m\u001b[38;2;0;255;0mTGT \u001b[38;2;255;255;255m\u001b[38;2;0;255;0mTTG \u001b[38;2;255;255;255m\u001b[38;2;0;255;0mTGT \u001b[38;2;255;255;255m\u001b[38;2;0;0;255mTGG \u001b[38;2;255;255;255m\u001b[38;2;255;0;0mGCT \u001b[38;2;255;255;255m\u001b[38;2;255;0;0mCCA \u001b[38;2;255;255;255m\u001b[38;2;0;255;0mTTT \u001b[38;2;255;255;255m\u001b[38;2;0;255;0mTTT \u001b[38;2;255;255;255m\u001b[38;2;255;0;0mGTT \u001b[38;2;255;255;255m\u001b[38;2;255;0;0mACT \u001b[38;2;255;255;255m\u001b[38;2;0;255;0mAAT \u001b[38;2;255;255;255m\u001b[38;2;0;0;0mATT \u001b[38;2;255;255;255m\u001b[38;2;255;0;0mGTT \u001b[38;2;255;255;255m\u001b[38;2;0;255;0mGAT \u001b[38;2;255;255;255m\u001b[38;2;255;0;0mCCA \u001b[38;2;255;255;255m\u001b[38;2;0;255;0mTTT \u001b[38;2;255;255;255m\u001b[38;2;0;0;0mATT \u001b[38;2;255;255;255m\u001b[38;2;0;255;0mGAT \u001b[38;2;255;255;255m\u001b[38;2;0;255;0mTAT \u001b[38;2;255;255;255m\u001b[38;2;255;0;0mACT \u001b[38;2;255;255;255m\u001b[38;2;255;0;0mGTT \u001b[38;2;255;255;255m\u001b[38;2;255;0;0mCCA \u001b[38;2;255;255;255m\u001b[38;2;255;0;0mGGT \u001b[38;2;255;255;255m\u001b[38;2;255;0;0mCAA \u001b[38;2;255;255;255m\u001b[38;2;255;0;0mGTT \u001b[38;2;255;255;255m\u001b[38;2;0;0;255mTGG \u001b[38;2;255;255;255m\u001b[38;2;255;0;0mACT \u001b[38;2;255;255;255m\u001b[38;2;255;0;0mGCT \u001b[38;2;255;255;255m\u001b[38;2;0;255;0mTTT \u001b[38;2;255;255;255m\u001b[38;2;0;255;0mTTG \u001b[38;2;255;255;255m\u001b[38;2;0;0;255mTGG \u001b[38;2;255;255;255m\u001b[38;2;0;255;0mTTG \u001b[38;2;255;255;255m\u001b[38;2;255;0;0mGGT \u001b[38;2;255;255;255m\u001b[38;2;0;255;0mTAT \u001b[38;2;255;255;255m\u001b[38;2;0;0;0mATT \u001b[38;2;255;255;255m\u001b[38;2;0;255;0mAAT \u001b[38;2;255;255;255m\u001b[38;2;0;0;0mTCT \u001b[38;2;255;255;255m\u001b[38;2;255;0;0mGGT \u001b[38;2;255;255;255m\u001b[38;2;0;255;0mTTG \u001b[38;2;255;255;255m\u001b[38;2;0;255;0mAAT \u001b[38;2;255;255;255m\u001b[38;2;255;0;0mCCA \u001b[38;2;255;255;255m\u001b[38;2;0;255;0mTTT \u001b[38;2;255;255;255m\u001b[38;2;0;255;0mTTG \u001b[38;2;255;255;255m\u001b[38;2;0;255;0mTAT \u001b[38;2;255;255;255m\u001b[38;2;255;0;0mGCT \u001b[38;2;255;255;255m\u001b[38;2;0;255;0mTTT \u001b[38;2;255;255;255m\u001b[38;2;0;255;0mTTG \u001b[38;2;255;255;255m\u001b[38;2;0;255;0mAAT \u001b[38;2;255;255;255m\u001b[38;2;255;0;0mAAA \u001b[38;2;255;255;255m\u001b[38;2;0;0;0mTCT \u001b[38;2;255;255;255m\u001b[38;2;0;255;0mTTT \u001b[38;2;255;255;255m\u001b[38;2;0;0;0mAGA \u001b[38;2;255;255;255m\u001b[38;2;0;0;0mAGA \u001b[38;2;255;255;255m\u001b[38;2;255;0;0mGCT \u001b[38;2;255;255;255m\u001b[38;2;0;255;0mTTT \u001b[38;2;255;255;255m\u001b[38;2;0;255;0mTTG \u001b[38;2;255;255;255m\u001b[38;2;0;0;0mATT \u001b[38;2;255;255;255m\u001b[38;2;0;0;0mATT \u001b[38;2;255;255;255m\u001b[38;2;0;255;0mTTG \u001b[38;2;255;255;255m\u001b[38;2;0;255;0mTGT \u001b[38;2;255;255;255m\u001b[38;2;0;255;0mTGT \u001b[38;2;255;255;255m\u001b[38;2;0;255;0mGAT \u001b[38;2;255;255;255m\u001b[38;2;0;255;0mGAT \u001b[38;2;255;255;255m\u001b[38;2;255;0;0mGAA \u001b[38;2;255;255;255m\u001b[38;2;0;0;0mAGA \u001b[38;2;255;255;255m\u001b[38;2;0;255;0mTAT \u001b[38;2;255;255;255m\u001b[38;2;0;0;0mAGA \u001b[38;2;255;255;255m\u001b[38;2;0;0;0mAGA \u001b[38;2;255;255;255m\u001b[38;2;255;0;0mCCA \u001b[38;2;255;255;255m\u001b[38;2;0;0;0mTCT \u001b[38;2;255;255;255m\u001b[38;2;0;0;0mATT \u001b[38;2;255;255;255m\u001b[38;2;0;255;0mTTG \u001b[38;2;255;255;255m\u001b[38;2;255;0;0mGGT \u001b[38;2;255;255;255m\u001b[38;2;255;0;0mCAA \u001b[38;2;255;255;255m\u001b[38;2;255;0;0mACT \u001b[38;2;255;255;255m\u001b[38;2;255;0;0mGTT \u001b[38;2;255;255;255m\u001b[38;2;255;0;0mCCA \u001b[38;2;255;255;255m\u001b[38;2;0;255;0mTGT \u001b[38;2;255;255;255m\u001b[38;2;0;0;0mTCT \u001b[38;2;255;255;255m\u001b[38;2;255;0;0mACT \u001b[38;2;255;255;255m\u001b[38;2;255;0;0mACT \u001b[38;2;255;255;255m\u001b[38;2;255;0;0mACT \u001b[38;2;255;255;255m\u001b[38;2;0;0;0mATT \u001b[38;2;255;255;255m\u001b[38;2;0;255;0mAAT \u001b[38;2;255;255;255m\u001b[38;2;255;0;0mGGT \u001b[38;2;255;255;255m\u001b[38;2;0;0;0mTCT \u001b[38;2;255;255;255m\u001b[38;2;255;0;0mACT \u001b[38;2;255;255;255m\u001b[38;2;0;255;0mCAT \u001b[38;2;255;255;255m\u001b[38;2;255;0;0mGTT \u001b[38;2;255;255;255m\u001b[38;2;0;255;0mTTG \u001b[38;2;255;255;255m\u001b[38;2;0;0;0mAGA \u001b[38;2;255;255;255m\u001b[38;2;0;255;0mGAT \u001b[38;2;255;255;255m\u001b[38;2;255;0;0mGCT \u001b[38;2;255;255;255m\u001b[38;2;255;0;0mGTT \u001b[38;2;255;255;255m\u001b[38;2;255;0;0mGAA \u001b[38;2;255;255;255m\u001b[38;2;0;255;0mTGT \u001b[38;2;255;255;255m\u001b[38;2;255;0;0mGGT \u001b[38;2;255;255;255m\u001b[38;2;255;0;0mGGT \u001b[38;2;255;255;255m\u001b[38;2;255;0;0mCAA \u001b[38;2;255;255;255m\u001b[38;2;0;0;255mTGG \u001b[38;2;255;255;255m\u001b[38;2;255;0;0mGAA \u001b[38;2;255;255;255m\u001b[38;2;0;0;0mTCT \u001b[38;2;255;255;255m\u001b[38;2;255;0;0mCAA \u001b[38;2;255;255;255m\u001b[38;2;0;255;0mTGT \u001b[38;2;255;255;255m\u001b[38;2;0;255;0mCAT \u001b[38;2;255;255;255m\u001b[38;2;255;0;0mCCA \u001b[38;2;255;255;255m\u001b[38;2;255;0;0mCCA \u001b[38;2;255;255;255m\u001b[38;2;255;0;0mGCT \u001b[38;2;255;255;255m\u001b[38;2;255;0;0mACT \u001b[38;2;255;255;255m\u001b[38;2;0;0;0mTCT \u001b[38;2;255;255;255m\u001b[38;2;255;0;0mCCA \u001b[38;2;255;255;255m\u001b[38;2;0;255;0mTTG \u001b[38;2;255;255;255m\u001b[38;2;255;0;0mGTT \u001b[38;2;255;255;255m\u001b[38;2;255;0;0mGCT \u001b[38;2;255;255;255m\u001b[38;2;255;0;0mGCT \u001b[38;2;255;255;255m\u001b[38;2;255;0;0mCAA \u001b[38;2;255;255;255m\u001b[38;2;255;0;0mCCA \u001b[38;2;255;255;255m\u001b[38;2;0;0;0mTCT \u001b[38;2;255;255;255m\u001b[38;2;0;255;0mGAT \u001b[38;2;255;255;255m\u001b[38;2;255;0;0mACT \u001b[38;2;255;255;255m\u001b[38;2;0;0;0mTGA \u001b[38;2;255;255;255m\n"
     ]
    }
   ],
   "source": [
    "print(color_it(0, 0, 0, 'Human Codon Biases for '+original_dna))\n",
    "print(orig_map)\n",
    "print('/n')\n",
    "print (color_it(0, 0, 0, 'S. cerv Codon Biases for '+original_dna))\n",
    "print(target_map) #there is a bug in target_map that I am trying to still sort out\n",
    "print('/n')\n",
    "print (color_it(0, 0, 0, 'S. cerv-optimized Codon Biases for '+original_dna))\n",
    "print(opt_map)"
   ]
  },
  {
   "cell_type": "markdown",
   "metadata": {},
   "source": [
    "### Next steps:\n",
    "#1 Visualize like an allignment so it's easier to see where the rare codon patterns are \n",
    "#2 Create my own codon bias tables from either top 100 expressed genes from an organism or whole genome \n",
    "#3 Write a codon optimization algorithm that maintains the pattern of rarity in heterologously expressed gene "
   ]
  },
  {
   "cell_type": "code",
   "execution_count": null,
   "metadata": {},
   "outputs": [],
   "source": []
  }
 ],
 "metadata": {
  "kernelspec": {
   "display_name": "Python 3",
   "language": "python",
   "name": "python3"
  },
  "language_info": {
   "codemirror_mode": {
    "name": "ipython",
    "version": 3
   },
   "file_extension": ".py",
   "mimetype": "text/x-python",
   "name": "python",
   "nbconvert_exporter": "python",
   "pygments_lexer": "ipython3",
   "version": "3.8.3"
  }
 },
 "nbformat": 4,
 "nbformat_minor": 4
}
